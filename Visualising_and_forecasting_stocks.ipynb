{
  "nbformat": 4,
  "nbformat_minor": 0,
  "metadata": {
    "colab": {
      "provenance": []
    },
    "kernelspec": {
      "name": "python3",
      "display_name": "Python 3"
    },
    "language_info": {
      "name": "python"
    }
  },
  "cells": [
    {
      "cell_type": "code",
      "execution_count": null,
      "metadata": {
        "id": "p5RSFufDC9eU"
      },
      "outputs": [],
      "source": [
        "### Data Collection\n",
        "import pandas_datareader as pdr\n",
        "key=\"ffb2d9d5c7baa952c1444d7ebd6e0e850cd1ab98\""
      ]
    },
    {
      "cell_type": "code",
      "source": [
        "df = pdr.get_data_tiingo('AAPL', api_key=key)"
      ],
      "metadata": {
        "colab": {
          "base_uri": "https://localhost:8080/"
        },
        "id": "vXqce-zTF0Jw",
        "outputId": "7ef1101c-a992-4801-8447-521865abb38b"
      },
      "execution_count": null,
      "outputs": [
        {
          "output_type": "stream",
          "name": "stderr",
          "text": [
            "/usr/local/lib/python3.7/dist-packages/pandas_datareader/tiingo.py:234: FutureWarning: In a future version of pandas all arguments of concat except for the argument 'objs' will be keyword-only\n",
            "  return pd.concat(dfs, self._concat_axis)\n"
          ]
        }
      ]
    },
    {
      "cell_type": "code",
      "source": [
        "df.to_csv('AAPL.csv')"
      ],
      "metadata": {
        "id": "Z4Sj8-GmGWRa"
      },
      "execution_count": null,
      "outputs": []
    },
    {
      "cell_type": "code",
      "source": [
        "from google.colab import drive\n",
        "drive.mount('/content/drive')"
      ],
      "metadata": {
        "colab": {
          "base_uri": "https://localhost:8080/"
        },
        "id": "35kyHrYGfl7p",
        "outputId": "7492fab3-5f74-446d-d638-0a01f6f6d8e5"
      },
      "execution_count": null,
      "outputs": [
        {
          "output_type": "stream",
          "name": "stdout",
          "text": [
            "Mounted at /content/drive\n"
          ]
        }
      ]
    },
    {
      "cell_type": "code",
      "source": [
        "import pandas as pd\n",
        "df=pd.read_csv('/content/drive/MyDrive/Apple.csv')\n",
        "df.head()"
      ],
      "metadata": {
        "colab": {
          "base_uri": "https://localhost:8080/",
          "height": 206
        },
        "id": "8K-gmQAHGinj",
        "outputId": "f594f6a5-0f4d-42ac-d921-312efdebe731"
      },
      "execution_count": null,
      "outputs": [
        {
          "output_type": "execute_result",
          "data": {
            "text/plain": [
              "   Unnamed: 0        Date     Open     High      Low    Close    Volume  \\\n",
              "0           0  1984-09-07  0.42388  0.42902  0.41874  0.42388  23220030   \n",
              "1           1  1984-09-10  0.42388  0.42516  0.41366  0.42134  18022532   \n",
              "2           2  1984-09-11  0.42516  0.43668  0.42516  0.42902  42498199   \n",
              "3           3  1984-09-12  0.42902  0.43157  0.41618  0.41618  37125801   \n",
              "4           4  1984-09-13  0.43927  0.44052  0.43927  0.43927  57822062   \n",
              "\n",
              "   OpenInt Stock  \n",
              "0        0  AAPL  \n",
              "1        0  AAPL  \n",
              "2        0  AAPL  \n",
              "3        0  AAPL  \n",
              "4        0  AAPL  "
            ],
            "text/html": [
              "\n",
              "  <div id=\"df-9326eec2-8bc2-4bae-8946-b2a5139d0ba4\">\n",
              "    <div class=\"colab-df-container\">\n",
              "      <div>\n",
              "<style scoped>\n",
              "    .dataframe tbody tr th:only-of-type {\n",
              "        vertical-align: middle;\n",
              "    }\n",
              "\n",
              "    .dataframe tbody tr th {\n",
              "        vertical-align: top;\n",
              "    }\n",
              "\n",
              "    .dataframe thead th {\n",
              "        text-align: right;\n",
              "    }\n",
              "</style>\n",
              "<table border=\"1\" class=\"dataframe\">\n",
              "  <thead>\n",
              "    <tr style=\"text-align: right;\">\n",
              "      <th></th>\n",
              "      <th>Unnamed: 0</th>\n",
              "      <th>Date</th>\n",
              "      <th>Open</th>\n",
              "      <th>High</th>\n",
              "      <th>Low</th>\n",
              "      <th>Close</th>\n",
              "      <th>Volume</th>\n",
              "      <th>OpenInt</th>\n",
              "      <th>Stock</th>\n",
              "    </tr>\n",
              "  </thead>\n",
              "  <tbody>\n",
              "    <tr>\n",
              "      <th>0</th>\n",
              "      <td>0</td>\n",
              "      <td>1984-09-07</td>\n",
              "      <td>0.42388</td>\n",
              "      <td>0.42902</td>\n",
              "      <td>0.41874</td>\n",
              "      <td>0.42388</td>\n",
              "      <td>23220030</td>\n",
              "      <td>0</td>\n",
              "      <td>AAPL</td>\n",
              "    </tr>\n",
              "    <tr>\n",
              "      <th>1</th>\n",
              "      <td>1</td>\n",
              "      <td>1984-09-10</td>\n",
              "      <td>0.42388</td>\n",
              "      <td>0.42516</td>\n",
              "      <td>0.41366</td>\n",
              "      <td>0.42134</td>\n",
              "      <td>18022532</td>\n",
              "      <td>0</td>\n",
              "      <td>AAPL</td>\n",
              "    </tr>\n",
              "    <tr>\n",
              "      <th>2</th>\n",
              "      <td>2</td>\n",
              "      <td>1984-09-11</td>\n",
              "      <td>0.42516</td>\n",
              "      <td>0.43668</td>\n",
              "      <td>0.42516</td>\n",
              "      <td>0.42902</td>\n",
              "      <td>42498199</td>\n",
              "      <td>0</td>\n",
              "      <td>AAPL</td>\n",
              "    </tr>\n",
              "    <tr>\n",
              "      <th>3</th>\n",
              "      <td>3</td>\n",
              "      <td>1984-09-12</td>\n",
              "      <td>0.42902</td>\n",
              "      <td>0.43157</td>\n",
              "      <td>0.41618</td>\n",
              "      <td>0.41618</td>\n",
              "      <td>37125801</td>\n",
              "      <td>0</td>\n",
              "      <td>AAPL</td>\n",
              "    </tr>\n",
              "    <tr>\n",
              "      <th>4</th>\n",
              "      <td>4</td>\n",
              "      <td>1984-09-13</td>\n",
              "      <td>0.43927</td>\n",
              "      <td>0.44052</td>\n",
              "      <td>0.43927</td>\n",
              "      <td>0.43927</td>\n",
              "      <td>57822062</td>\n",
              "      <td>0</td>\n",
              "      <td>AAPL</td>\n",
              "    </tr>\n",
              "  </tbody>\n",
              "</table>\n",
              "</div>\n",
              "      <button class=\"colab-df-convert\" onclick=\"convertToInteractive('df-9326eec2-8bc2-4bae-8946-b2a5139d0ba4')\"\n",
              "              title=\"Convert this dataframe to an interactive table.\"\n",
              "              style=\"display:none;\">\n",
              "        \n",
              "  <svg xmlns=\"http://www.w3.org/2000/svg\" height=\"24px\"viewBox=\"0 0 24 24\"\n",
              "       width=\"24px\">\n",
              "    <path d=\"M0 0h24v24H0V0z\" fill=\"none\"/>\n",
              "    <path d=\"M18.56 5.44l.94 2.06.94-2.06 2.06-.94-2.06-.94-.94-2.06-.94 2.06-2.06.94zm-11 1L8.5 8.5l.94-2.06 2.06-.94-2.06-.94L8.5 2.5l-.94 2.06-2.06.94zm10 10l.94 2.06.94-2.06 2.06-.94-2.06-.94-.94-2.06-.94 2.06-2.06.94z\"/><path d=\"M17.41 7.96l-1.37-1.37c-.4-.4-.92-.59-1.43-.59-.52 0-1.04.2-1.43.59L10.3 9.45l-7.72 7.72c-.78.78-.78 2.05 0 2.83L4 21.41c.39.39.9.59 1.41.59.51 0 1.02-.2 1.41-.59l7.78-7.78 2.81-2.81c.8-.78.8-2.07 0-2.86zM5.41 20L4 18.59l7.72-7.72 1.47 1.35L5.41 20z\"/>\n",
              "  </svg>\n",
              "      </button>\n",
              "      \n",
              "  <style>\n",
              "    .colab-df-container {\n",
              "      display:flex;\n",
              "      flex-wrap:wrap;\n",
              "      gap: 12px;\n",
              "    }\n",
              "\n",
              "    .colab-df-convert {\n",
              "      background-color: #E8F0FE;\n",
              "      border: none;\n",
              "      border-radius: 50%;\n",
              "      cursor: pointer;\n",
              "      display: none;\n",
              "      fill: #1967D2;\n",
              "      height: 32px;\n",
              "      padding: 0 0 0 0;\n",
              "      width: 32px;\n",
              "    }\n",
              "\n",
              "    .colab-df-convert:hover {\n",
              "      background-color: #E2EBFA;\n",
              "      box-shadow: 0px 1px 2px rgba(60, 64, 67, 0.3), 0px 1px 3px 1px rgba(60, 64, 67, 0.15);\n",
              "      fill: #174EA6;\n",
              "    }\n",
              "\n",
              "    [theme=dark] .colab-df-convert {\n",
              "      background-color: #3B4455;\n",
              "      fill: #D2E3FC;\n",
              "    }\n",
              "\n",
              "    [theme=dark] .colab-df-convert:hover {\n",
              "      background-color: #434B5C;\n",
              "      box-shadow: 0px 1px 3px 1px rgba(0, 0, 0, 0.15);\n",
              "      filter: drop-shadow(0px 1px 2px rgba(0, 0, 0, 0.3));\n",
              "      fill: #FFFFFF;\n",
              "    }\n",
              "  </style>\n",
              "\n",
              "      <script>\n",
              "        const buttonEl =\n",
              "          document.querySelector('#df-9326eec2-8bc2-4bae-8946-b2a5139d0ba4 button.colab-df-convert');\n",
              "        buttonEl.style.display =\n",
              "          google.colab.kernel.accessAllowed ? 'block' : 'none';\n",
              "\n",
              "        async function convertToInteractive(key) {\n",
              "          const element = document.querySelector('#df-9326eec2-8bc2-4bae-8946-b2a5139d0ba4');\n",
              "          const dataTable =\n",
              "            await google.colab.kernel.invokeFunction('convertToInteractive',\n",
              "                                                     [key], {});\n",
              "          if (!dataTable) return;\n",
              "\n",
              "          const docLinkHtml = 'Like what you see? Visit the ' +\n",
              "            '<a target=\"_blank\" href=https://colab.research.google.com/notebooks/data_table.ipynb>data table notebook</a>'\n",
              "            + ' to learn more about interactive tables.';\n",
              "          element.innerHTML = '';\n",
              "          dataTable['output_type'] = 'display_data';\n",
              "          await google.colab.output.renderOutput(dataTable, element);\n",
              "          const docLink = document.createElement('div');\n",
              "          docLink.innerHTML = docLinkHtml;\n",
              "          element.appendChild(docLink);\n",
              "        }\n",
              "      </script>\n",
              "    </div>\n",
              "  </div>\n",
              "  "
            ]
          },
          "metadata": {},
          "execution_count": 5
        }
      ]
    },
    {
      "cell_type": "code",
      "source": [
        "df.tail()"
      ],
      "metadata": {
        "colab": {
          "base_uri": "https://localhost:8080/",
          "height": 206
        },
        "id": "RSp0YiDfHABz",
        "outputId": "fc8ce9ee-768f-4ac8-d72d-9485983b0551"
      },
      "execution_count": null,
      "outputs": [
        {
          "output_type": "execute_result",
          "data": {
            "text/plain": [
              "      Unnamed: 0        Date    Open    High     Low   Close    Volume  \\\n",
              "8359        8359  2017-11-06  171.75  174.36  171.10  173.63  34901241   \n",
              "8360        8360  2017-11-07  173.29  174.51  173.29  174.18  24424877   \n",
              "8361        8361  2017-11-08  174.03  175.61  173.71  175.61  24451166   \n",
              "8362        8362  2017-11-09  174.48  175.46  172.52  175.25  29533086   \n",
              "8363        8363  2017-11-10  175.11  175.38  174.27  174.67  25130494   \n",
              "\n",
              "      OpenInt Stock  \n",
              "8359        0  AAPL  \n",
              "8360        0  AAPL  \n",
              "8361        0  AAPL  \n",
              "8362        0  AAPL  \n",
              "8363        0  AAPL  "
            ],
            "text/html": [
              "\n",
              "  <div id=\"df-6b79b91a-8fea-4dba-8909-96b93c3268df\">\n",
              "    <div class=\"colab-df-container\">\n",
              "      <div>\n",
              "<style scoped>\n",
              "    .dataframe tbody tr th:only-of-type {\n",
              "        vertical-align: middle;\n",
              "    }\n",
              "\n",
              "    .dataframe tbody tr th {\n",
              "        vertical-align: top;\n",
              "    }\n",
              "\n",
              "    .dataframe thead th {\n",
              "        text-align: right;\n",
              "    }\n",
              "</style>\n",
              "<table border=\"1\" class=\"dataframe\">\n",
              "  <thead>\n",
              "    <tr style=\"text-align: right;\">\n",
              "      <th></th>\n",
              "      <th>Unnamed: 0</th>\n",
              "      <th>Date</th>\n",
              "      <th>Open</th>\n",
              "      <th>High</th>\n",
              "      <th>Low</th>\n",
              "      <th>Close</th>\n",
              "      <th>Volume</th>\n",
              "      <th>OpenInt</th>\n",
              "      <th>Stock</th>\n",
              "    </tr>\n",
              "  </thead>\n",
              "  <tbody>\n",
              "    <tr>\n",
              "      <th>8359</th>\n",
              "      <td>8359</td>\n",
              "      <td>2017-11-06</td>\n",
              "      <td>171.75</td>\n",
              "      <td>174.36</td>\n",
              "      <td>171.10</td>\n",
              "      <td>173.63</td>\n",
              "      <td>34901241</td>\n",
              "      <td>0</td>\n",
              "      <td>AAPL</td>\n",
              "    </tr>\n",
              "    <tr>\n",
              "      <th>8360</th>\n",
              "      <td>8360</td>\n",
              "      <td>2017-11-07</td>\n",
              "      <td>173.29</td>\n",
              "      <td>174.51</td>\n",
              "      <td>173.29</td>\n",
              "      <td>174.18</td>\n",
              "      <td>24424877</td>\n",
              "      <td>0</td>\n",
              "      <td>AAPL</td>\n",
              "    </tr>\n",
              "    <tr>\n",
              "      <th>8361</th>\n",
              "      <td>8361</td>\n",
              "      <td>2017-11-08</td>\n",
              "      <td>174.03</td>\n",
              "      <td>175.61</td>\n",
              "      <td>173.71</td>\n",
              "      <td>175.61</td>\n",
              "      <td>24451166</td>\n",
              "      <td>0</td>\n",
              "      <td>AAPL</td>\n",
              "    </tr>\n",
              "    <tr>\n",
              "      <th>8362</th>\n",
              "      <td>8362</td>\n",
              "      <td>2017-11-09</td>\n",
              "      <td>174.48</td>\n",
              "      <td>175.46</td>\n",
              "      <td>172.52</td>\n",
              "      <td>175.25</td>\n",
              "      <td>29533086</td>\n",
              "      <td>0</td>\n",
              "      <td>AAPL</td>\n",
              "    </tr>\n",
              "    <tr>\n",
              "      <th>8363</th>\n",
              "      <td>8363</td>\n",
              "      <td>2017-11-10</td>\n",
              "      <td>175.11</td>\n",
              "      <td>175.38</td>\n",
              "      <td>174.27</td>\n",
              "      <td>174.67</td>\n",
              "      <td>25130494</td>\n",
              "      <td>0</td>\n",
              "      <td>AAPL</td>\n",
              "    </tr>\n",
              "  </tbody>\n",
              "</table>\n",
              "</div>\n",
              "      <button class=\"colab-df-convert\" onclick=\"convertToInteractive('df-6b79b91a-8fea-4dba-8909-96b93c3268df')\"\n",
              "              title=\"Convert this dataframe to an interactive table.\"\n",
              "              style=\"display:none;\">\n",
              "        \n",
              "  <svg xmlns=\"http://www.w3.org/2000/svg\" height=\"24px\"viewBox=\"0 0 24 24\"\n",
              "       width=\"24px\">\n",
              "    <path d=\"M0 0h24v24H0V0z\" fill=\"none\"/>\n",
              "    <path d=\"M18.56 5.44l.94 2.06.94-2.06 2.06-.94-2.06-.94-.94-2.06-.94 2.06-2.06.94zm-11 1L8.5 8.5l.94-2.06 2.06-.94-2.06-.94L8.5 2.5l-.94 2.06-2.06.94zm10 10l.94 2.06.94-2.06 2.06-.94-2.06-.94-.94-2.06-.94 2.06-2.06.94z\"/><path d=\"M17.41 7.96l-1.37-1.37c-.4-.4-.92-.59-1.43-.59-.52 0-1.04.2-1.43.59L10.3 9.45l-7.72 7.72c-.78.78-.78 2.05 0 2.83L4 21.41c.39.39.9.59 1.41.59.51 0 1.02-.2 1.41-.59l7.78-7.78 2.81-2.81c.8-.78.8-2.07 0-2.86zM5.41 20L4 18.59l7.72-7.72 1.47 1.35L5.41 20z\"/>\n",
              "  </svg>\n",
              "      </button>\n",
              "      \n",
              "  <style>\n",
              "    .colab-df-container {\n",
              "      display:flex;\n",
              "      flex-wrap:wrap;\n",
              "      gap: 12px;\n",
              "    }\n",
              "\n",
              "    .colab-df-convert {\n",
              "      background-color: #E8F0FE;\n",
              "      border: none;\n",
              "      border-radius: 50%;\n",
              "      cursor: pointer;\n",
              "      display: none;\n",
              "      fill: #1967D2;\n",
              "      height: 32px;\n",
              "      padding: 0 0 0 0;\n",
              "      width: 32px;\n",
              "    }\n",
              "\n",
              "    .colab-df-convert:hover {\n",
              "      background-color: #E2EBFA;\n",
              "      box-shadow: 0px 1px 2px rgba(60, 64, 67, 0.3), 0px 1px 3px 1px rgba(60, 64, 67, 0.15);\n",
              "      fill: #174EA6;\n",
              "    }\n",
              "\n",
              "    [theme=dark] .colab-df-convert {\n",
              "      background-color: #3B4455;\n",
              "      fill: #D2E3FC;\n",
              "    }\n",
              "\n",
              "    [theme=dark] .colab-df-convert:hover {\n",
              "      background-color: #434B5C;\n",
              "      box-shadow: 0px 1px 3px 1px rgba(0, 0, 0, 0.15);\n",
              "      filter: drop-shadow(0px 1px 2px rgba(0, 0, 0, 0.3));\n",
              "      fill: #FFFFFF;\n",
              "    }\n",
              "  </style>\n",
              "\n",
              "      <script>\n",
              "        const buttonEl =\n",
              "          document.querySelector('#df-6b79b91a-8fea-4dba-8909-96b93c3268df button.colab-df-convert');\n",
              "        buttonEl.style.display =\n",
              "          google.colab.kernel.accessAllowed ? 'block' : 'none';\n",
              "\n",
              "        async function convertToInteractive(key) {\n",
              "          const element = document.querySelector('#df-6b79b91a-8fea-4dba-8909-96b93c3268df');\n",
              "          const dataTable =\n",
              "            await google.colab.kernel.invokeFunction('convertToInteractive',\n",
              "                                                     [key], {});\n",
              "          if (!dataTable) return;\n",
              "\n",
              "          const docLinkHtml = 'Like what you see? Visit the ' +\n",
              "            '<a target=\"_blank\" href=https://colab.research.google.com/notebooks/data_table.ipynb>data table notebook</a>'\n",
              "            + ' to learn more about interactive tables.';\n",
              "          element.innerHTML = '';\n",
              "          dataTable['output_type'] = 'display_data';\n",
              "          await google.colab.output.renderOutput(dataTable, element);\n",
              "          const docLink = document.createElement('div');\n",
              "          docLink.innerHTML = docLinkHtml;\n",
              "          element.appendChild(docLink);\n",
              "        }\n",
              "      </script>\n",
              "    </div>\n",
              "  </div>\n",
              "  "
            ]
          },
          "metadata": {},
          "execution_count": 6
        }
      ]
    },
    {
      "cell_type": "code",
      "source": [
        "df1=df.reset_index()['Close']\n",
        "df1"
      ],
      "metadata": {
        "colab": {
          "base_uri": "https://localhost:8080/"
        },
        "id": "8-3HP5R0HCLs",
        "outputId": "335d6e96-9846-4a00-cd80-101949e4db36"
      },
      "execution_count": null,
      "outputs": [
        {
          "output_type": "execute_result",
          "data": {
            "text/plain": [
              "0         0.42388\n",
              "1         0.42134\n",
              "2         0.42902\n",
              "3         0.41618\n",
              "4         0.43927\n",
              "          ...    \n",
              "8359    173.63000\n",
              "8360    174.18000\n",
              "8361    175.61000\n",
              "8362    175.25000\n",
              "8363    174.67000\n",
              "Name: Close, Length: 8364, dtype: float64"
            ]
          },
          "metadata": {},
          "execution_count": 7
        }
      ]
    },
    {
      "cell_type": "code",
      "source": [
        "import matplotlib.pyplot as plt\n",
        "plt.plot(df1)"
      ],
      "metadata": {
        "colab": {
          "base_uri": "https://localhost:8080/",
          "height": 282
        },
        "id": "d2tO1KCwHFmk",
        "outputId": "eb01e851-7ee5-486f-a20a-92fa7881270c"
      },
      "execution_count": null,
      "outputs": [
        {
          "output_type": "execute_result",
          "data": {
            "text/plain": [
              "[<matplotlib.lines.Line2D at 0x7fdf2176bcd0>]"
            ]
          },
          "metadata": {},
          "execution_count": 8
        },
        {
          "output_type": "display_data",
          "data": {
            "text/plain": [
              "<Figure size 432x288 with 1 Axes>"
            ],
            "image/png": "[encoded data removed]"
          },
          "metadata": {
            "needs_background": "light"
          }
        }
      ]
    },
    {
      "cell_type": "code",
      "source": [
        "### LSTM are sensitive to the scale of the data. so we apply MinMax scaler \n",
        "import numpy as np\n",
        "df1"
      ],
      "metadata": {
        "colab": {
          "base_uri": "https://localhost:8080/"
        },
        "id": "zDGHFI0BHJEP",
        "outputId": "7b2e3d48-69c4-4edd-b068-830a51734959"
      },
      "execution_count": null,
      "outputs": [
        {
          "output_type": "execute_result",
          "data": {
            "text/plain": [
              "0         0.42388\n",
              "1         0.42134\n",
              "2         0.42902\n",
              "3         0.41618\n",
              "4         0.43927\n",
              "          ...    \n",
              "8359    173.63000\n",
              "8360    174.18000\n",
              "8361    175.61000\n",
              "8362    175.25000\n",
              "8363    174.67000\n",
              "Name: Close, Length: 8364, dtype: float64"
            ]
          },
          "metadata": {},
          "execution_count": 9
        }
      ]
    },
    {
      "cell_type": "code",
      "source": [
        "from sklearn.preprocessing import MinMaxScaler\n",
        "scaler=MinMaxScaler(feature_range=(0,1))\n",
        "df1=scaler.fit_transform(np.array(df1).reshape(-1,1))"
      ],
      "metadata": {
        "id": "2p2lWI_XHUBM"
      },
      "execution_count": null,
      "outputs": []
    },
    {
      "cell_type": "code",
      "source": [
        "print(df1)"
      ],
      "metadata": {
        "colab": {
          "base_uri": "https://localhost:8080/"
        },
        "id": "hUra3_mBHYy9",
        "outputId": "c724e7ec-3b8b-4b7f-9a79-ed59bcf563ba"
      },
      "execution_count": null,
      "outputs": [
        {
          "output_type": "stream",
          "name": "stdout",
          "text": [
            "[[0.00110258]\n",
            " [0.0010881 ]\n",
            " [0.00113189]\n",
            " ...\n",
            " [1.        ]\n",
            " [0.99794731]\n",
            " [0.99464019]]\n"
          ]
        }
      ]
    },
    {
      "cell_type": "code",
      "source": [
        "##splitting dataset into train and test split\n",
        "training_size=int(len(df1)*0.65)\n",
        "test_size=len(df1)-training_size\n",
        "train_data,test_data=df1[0:training_size,:],df1[training_size:len(df1),:1]"
      ],
      "metadata": {
        "id": "Ie_Rvj1VHbTt"
      },
      "execution_count": null,
      "outputs": []
    },
    {
      "cell_type": "code",
      "source": [
        "training_size,test_size\n"
      ],
      "metadata": {
        "colab": {
          "base_uri": "https://localhost:8080/"
        },
        "id": "Ul-QDPQoHfn9",
        "outputId": "9d013e2e-5652-469e-e917-3160ac78432c"
      },
      "execution_count": null,
      "outputs": [
        {
          "output_type": "execute_result",
          "data": {
            "text/plain": [
              "(5436, 2928)"
            ]
          },
          "metadata": {},
          "execution_count": 13
        }
      ]
    },
    {
      "cell_type": "code",
      "source": [
        "train_data"
      ],
      "metadata": {
        "colab": {
          "base_uri": "https://localhost:8080/"
        },
        "id": "yW7AV94IHn4G",
        "outputId": "c20d9f60-6b01-4ac7-ae52-8bacb3086280"
      },
      "execution_count": null,
      "outputs": [
        {
          "output_type": "execute_result",
          "data": {
            "text/plain": [
              "array([[0.00110258],\n",
              "       [0.0010881 ],\n",
              "       [0.00113189],\n",
              "       ...,\n",
              "       [0.04246842],\n",
              "       [0.04213942],\n",
              "       [0.04155668]])"
            ]
          },
          "metadata": {},
          "execution_count": 14
        }
      ]
    },
    {
      "cell_type": "code",
      "source": [
        "import numpy\n",
        "# convert an array of values into a dataset matrix\n",
        "def create_dataset(dataset, time_step=1):\n",
        "\tdataX, dataY = [], []\n",
        "\tfor i in range(len(dataset)-time_step-1):\n",
        "\t\ta = dataset[i:(i+time_step), 0]   ###i=0, 0,1,2,3-----99   100 \n",
        "\t\tdataX.append(a)\n",
        "\t\tdataY.append(dataset[i + time_step, 0])\n",
        "\treturn numpy.array(dataX), numpy.array(dataY)"
      ],
      "metadata": {
        "id": "IqnlZ9oAHoxW"
      },
      "execution_count": null,
      "outputs": []
    },
    {
      "cell_type": "code",
      "source": [
        "# reshape into X=t,t+1,t+2,t+3 and Y=t+4\n",
        "time_step = 100\n",
        "X_train, y_train = create_dataset(train_data, time_step)\n",
        "X_test, ytest = create_dataset(test_data, time_step)"
      ],
      "metadata": {
        "id": "wRmNMxiCHul3"
      },
      "execution_count": null,
      "outputs": []
    },
    {
      "cell_type": "code",
      "source": [
        "print(X_train.shape), print(y_train.shape)"
      ],
      "metadata": {
        "colab": {
          "base_uri": "https://localhost:8080/"
        },
        "id": "DLIShGz0HxR2",
        "outputId": "44e28985-ee85-42a0-fddf-a93c34d72d44"
      },
      "execution_count": null,
      "outputs": [
        {
          "output_type": "stream",
          "name": "stdout",
          "text": [
            "(5335, 100)\n",
            "(5335,)\n"
          ]
        },
        {
          "output_type": "execute_result",
          "data": {
            "text/plain": [
              "(None, None)"
            ]
          },
          "metadata": {},
          "execution_count": 17
        }
      ]
    },
    {
      "cell_type": "code",
      "source": [
        "print(X_test.shape), print(ytest.shape)"
      ],
      "metadata": {
        "colab": {
          "base_uri": "https://localhost:8080/"
        },
        "id": "O5FZPIBhHzSf",
        "outputId": "8227935b-5fbe-4952-a9d0-2381b4791f51"
      },
      "execution_count": null,
      "outputs": [
        {
          "output_type": "stream",
          "name": "stdout",
          "text": [
            "(2827, 100)\n",
            "(2827,)\n"
          ]
        },
        {
          "output_type": "execute_result",
          "data": {
            "text/plain": [
              "(None, None)"
            ]
          },
          "metadata": {},
          "execution_count": 18
        }
      ]
    },
    {
      "cell_type": "code",
      "source": [
        "# reshape input to be [samples, time steps, features] which is required for LSTM\n",
        "X_train =X_train.reshape(X_train.shape[0],X_train.shape[1] , 1)\n",
        "X_test = X_test.reshape(X_test.shape[0],X_test.shape[1] , 1)"
      ],
      "metadata": {
        "id": "O1zohwpzH2CJ"
      },
      "execution_count": null,
      "outputs": []
    },
    {
      "cell_type": "code",
      "source": [
        "### Create the Stacked LSTM model\n",
        "from tensorflow.keras.models import Sequential\n",
        "from tensorflow.keras.layers import Dense\n",
        "from tensorflow.keras.layers import LSTM"
      ],
      "metadata": {
        "id": "-Gd1BFQqH4t-"
      },
      "execution_count": null,
      "outputs": []
    },
    {
      "cell_type": "code",
      "source": [
        "model=Sequential()\n",
        "model.add(LSTM(50,return_sequences=True,input_shape=(100,1)))\n",
        "model.add(LSTM(50,return_sequences=True))\n",
        "model.add(LSTM(50))\n",
        "model.add(Dense(1))\n",
        "model.compile(loss='mean_squared_error',optimizer='adam')"
      ],
      "metadata": {
        "id": "PxTBCQfFH68N"
      },
      "execution_count": null,
      "outputs": []
    },
    {
      "cell_type": "code",
      "source": [
        "model.summary()"
      ],
      "metadata": {
        "colab": {
          "base_uri": "https://localhost:8080/"
        },
        "id": "R8P1racBH-YV",
        "outputId": "929413eb-ef6f-47ba-be9c-1de234c77512"
      },
      "execution_count": null,
      "outputs": [
        {
          "output_type": "stream",
          "name": "stdout",
          "text": [
            "Model: \"sequential\"\n",
            "_________________________________________________________________\n",
            " Layer (type)                Output Shape              Param #   \n",
            "=================================================================\n",
            " lstm (LSTM)                 (None, 100, 50)           10400     \n",
            "                                                                 \n",
            " lstm_1 (LSTM)               (None, 100, 50)           20200     \n",
            "                                                                 \n",
            " lstm_2 (LSTM)               (None, 50)                20200     \n",
            "                                                                 \n",
            " dense (Dense)               (None, 1)                 51        \n",
            "                                                                 \n",
            "=================================================================\n",
            "Total params: 50,851\n",
            "Trainable params: 50,851\n",
            "Non-trainable params: 0\n",
            "_________________________________________________________________\n"
          ]
        }
      ]
    },
    {
      "cell_type": "code",
      "source": [
        "model.summary()"
      ],
      "metadata": {
        "colab": {
          "base_uri": "https://localhost:8080/"
        },
        "id": "3E0-nnIHIBGU",
        "outputId": "375e4aba-8027-4c8e-db47-e0ee7fb7b93c"
      },
      "execution_count": null,
      "outputs": [
        {
          "output_type": "stream",
          "name": "stdout",
          "text": [
            "Model: \"sequential\"\n",
            "_________________________________________________________________\n",
            " Layer (type)                Output Shape              Param #   \n",
            "=================================================================\n",
            " lstm (LSTM)                 (None, 100, 50)           10400     \n",
            "                                                                 \n",
            " lstm_1 (LSTM)               (None, 100, 50)           20200     \n",
            "                                                                 \n",
            " lstm_2 (LSTM)               (None, 50)                20200     \n",
            "                                                                 \n",
            " dense (Dense)               (None, 1)                 51        \n",
            "                                                                 \n",
            "=================================================================\n",
            "Total params: 50,851\n",
            "Trainable params: 50,851\n",
            "Non-trainable params: 0\n",
            "_________________________________________________________________\n"
          ]
        }
      ]
    },
    {
      "cell_type": "code",
      "source": [
        "model.fit(X_train,y_train,validation_data=(X_test,ytest),epochs=100,batch_size=64,verbose=1)"
      ],
      "metadata": {
        "colab": {
          "base_uri": "https://localhost:8080/"
        },
        "id": "YEgRo1NoIEbb",
        "outputId": "b50af9fe-2a8e-4b82-8735-fbdddcb6adce"
      },
      "execution_count": null,
      "outputs": [
        {
          "output_type": "stream",
          "name": "stdout",
          "text": [
            "Epoch 1/100\n",
            "84/84 [==============================] - 26s 233ms/step - loss: 1.8115e-05 - val_loss: 0.0029\n",
            "Epoch 2/100\n",
            "84/84 [==============================] - 18s 214ms/step - loss: 1.7207e-06 - val_loss: 0.0024\n",
            "Epoch 3/100\n",
            "84/84 [==============================] - 18s 217ms/step - loss: 1.6180e-06 - val_loss: 8.2206e-04\n",
            "Epoch 4/100\n",
            "84/84 [==============================] - 18s 216ms/step - loss: 1.6734e-06 - val_loss: 0.0011\n",
            "Epoch 5/100\n",
            "84/84 [==============================] - 18s 218ms/step - loss: 1.4593e-06 - val_loss: 8.6246e-04\n",
            "Epoch 6/100\n",
            "84/84 [==============================] - 18s 219ms/step - loss: 1.3524e-06 - val_loss: 0.0019\n",
            "Epoch 7/100\n",
            "84/84 [==============================] - 19s 224ms/step - loss: 1.3198e-06 - val_loss: 0.0016\n",
            "Epoch 8/100\n",
            "84/84 [==============================] - 19s 221ms/step - loss: 1.0986e-06 - val_loss: 5.8828e-04\n",
            "Epoch 9/100\n",
            "84/84 [==============================] - 19s 222ms/step - loss: 1.3192e-06 - val_loss: 4.3998e-04\n",
            "Epoch 10/100\n",
            "84/84 [==============================] - 19s 224ms/step - loss: 1.1627e-06 - val_loss: 7.9670e-04\n",
            "Epoch 11/100\n",
            "84/84 [==============================] - 19s 223ms/step - loss: 9.8163e-07 - val_loss: 0.0015\n",
            "Epoch 12/100\n",
            "84/84 [==============================] - 19s 222ms/step - loss: 9.8334e-07 - val_loss: 0.0012\n",
            "Epoch 13/100\n",
            "84/84 [==============================] - 19s 221ms/step - loss: 1.1364e-06 - val_loss: 0.0013\n",
            "Epoch 14/100\n",
            "84/84 [==============================] - 21s 245ms/step - loss: 8.4541e-07 - val_loss: 6.7152e-04\n",
            "Epoch 15/100\n",
            "84/84 [==============================] - 19s 223ms/step - loss: 8.3134e-07 - val_loss: 8.2045e-04\n",
            "Epoch 16/100\n",
            "84/84 [==============================] - 19s 221ms/step - loss: 8.3775e-07 - val_loss: 5.3046e-04\n",
            "Epoch 17/100\n",
            "84/84 [==============================] - 19s 221ms/step - loss: 7.9888e-07 - val_loss: 5.5159e-04\n",
            "Epoch 18/100\n",
            "84/84 [==============================] - 19s 221ms/step - loss: 7.9890e-07 - val_loss: 9.2667e-04\n",
            "Epoch 19/100\n",
            "84/84 [==============================] - 19s 227ms/step - loss: 1.0140e-06 - val_loss: 3.6448e-04\n",
            "Epoch 20/100\n",
            "84/84 [==============================] - 19s 220ms/step - loss: 7.8207e-07 - val_loss: 5.7077e-04\n",
            "Epoch 21/100\n",
            "84/84 [==============================] - 19s 222ms/step - loss: 8.1481e-07 - val_loss: 6.5997e-04\n",
            "Epoch 22/100\n",
            "84/84 [==============================] - 18s 220ms/step - loss: 6.9827e-07 - val_loss: 6.4337e-04\n",
            "Epoch 23/100\n",
            "84/84 [==============================] - 18s 216ms/step - loss: 1.0045e-06 - val_loss: 4.2612e-04\n",
            "Epoch 24/100\n",
            "84/84 [==============================] - 18s 220ms/step - loss: 7.8241e-07 - val_loss: 5.6811e-04\n",
            "Epoch 25/100\n",
            "84/84 [==============================] - 19s 222ms/step - loss: 6.2242e-07 - val_loss: 0.0020\n",
            "Epoch 26/100\n",
            "84/84 [==============================] - 18s 220ms/step - loss: 7.5378e-07 - val_loss: 4.5331e-04\n",
            "Epoch 27/100\n",
            "84/84 [==============================] - 18s 219ms/step - loss: 5.9138e-07 - val_loss: 6.1348e-04\n",
            "Epoch 28/100\n",
            "84/84 [==============================] - 19s 222ms/step - loss: 6.3130e-07 - val_loss: 8.9623e-04\n",
            "Epoch 29/100\n",
            "84/84 [==============================] - 21s 247ms/step - loss: 7.5769e-07 - val_loss: 6.2641e-04\n",
            "Epoch 30/100\n",
            "84/84 [==============================] - 19s 228ms/step - loss: 6.3031e-07 - val_loss: 4.1851e-04\n",
            "Epoch 31/100\n",
            "84/84 [==============================] - 19s 226ms/step - loss: 5.5325e-07 - val_loss: 0.0018\n",
            "Epoch 32/100\n",
            "84/84 [==============================] - 19s 224ms/step - loss: 5.8986e-07 - val_loss: 5.0471e-04\n",
            "Epoch 33/100\n",
            "84/84 [==============================] - 19s 225ms/step - loss: 6.2950e-07 - val_loss: 7.5796e-04\n",
            "Epoch 34/100\n",
            "84/84 [==============================] - 18s 220ms/step - loss: 7.3109e-07 - val_loss: 0.0015\n",
            "Epoch 35/100\n",
            "84/84 [==============================] - 18s 219ms/step - loss: 6.5452e-07 - val_loss: 4.8386e-04\n",
            "Epoch 36/100\n",
            "84/84 [==============================] - 18s 220ms/step - loss: 5.9364e-07 - val_loss: 0.0014\n",
            "Epoch 37/100\n",
            "84/84 [==============================] - 19s 223ms/step - loss: 6.2093e-07 - val_loss: 4.3719e-04\n",
            "Epoch 38/100\n",
            "84/84 [==============================] - 19s 225ms/step - loss: 6.7527e-07 - val_loss: 4.9754e-04\n",
            "Epoch 39/100\n",
            "84/84 [==============================] - 18s 220ms/step - loss: 5.2011e-07 - val_loss: 5.7686e-04\n",
            "Epoch 40/100\n",
            "84/84 [==============================] - 19s 226ms/step - loss: 6.4504e-07 - val_loss: 8.8532e-04\n",
            "Epoch 41/100\n",
            "84/84 [==============================] - 18s 221ms/step - loss: 5.1795e-07 - val_loss: 6.5489e-04\n",
            "Epoch 42/100\n",
            "84/84 [==============================] - 19s 224ms/step - loss: 5.7928e-07 - val_loss: 0.0010\n",
            "Epoch 43/100\n",
            "84/84 [==============================] - 19s 224ms/step - loss: 4.6879e-07 - val_loss: 0.0014\n",
            "Epoch 44/100\n",
            "84/84 [==============================] - 20s 243ms/step - loss: 5.5607e-07 - val_loss: 3.0603e-04\n",
            "Epoch 45/100\n",
            "84/84 [==============================] - 19s 223ms/step - loss: 4.5734e-07 - val_loss: 9.6040e-04\n",
            "Epoch 46/100\n",
            "84/84 [==============================] - 19s 224ms/step - loss: 4.5453e-07 - val_loss: 7.7598e-04\n",
            "Epoch 47/100\n",
            "84/84 [==============================] - 19s 229ms/step - loss: 5.9861e-07 - val_loss: 0.0011\n",
            "Epoch 48/100\n",
            "84/84 [==============================] - 19s 229ms/step - loss: 5.2107e-07 - val_loss: 3.2737e-04\n",
            "Epoch 49/100\n",
            "84/84 [==============================] - 19s 226ms/step - loss: 4.7789e-07 - val_loss: 0.0012\n",
            "Epoch 50/100\n",
            "84/84 [==============================] - 19s 224ms/step - loss: 4.1181e-07 - val_loss: 0.0014\n",
            "Epoch 51/100\n",
            "84/84 [==============================] - 19s 223ms/step - loss: 4.4439e-07 - val_loss: 0.0014\n",
            "Epoch 52/100\n",
            "84/84 [==============================] - 20s 234ms/step - loss: 6.4713e-07 - val_loss: 9.1256e-04\n",
            "Epoch 53/100\n",
            "84/84 [==============================] - 19s 225ms/step - loss: 4.4180e-07 - val_loss: 7.7571e-04\n",
            "Epoch 54/100\n",
            "84/84 [==============================] - 19s 227ms/step - loss: 4.6805e-07 - val_loss: 5.8864e-04\n",
            "Epoch 55/100\n",
            "84/84 [==============================] - 19s 223ms/step - loss: 4.2117e-07 - val_loss: 0.0011\n",
            "Epoch 56/100\n",
            "84/84 [==============================] - 19s 223ms/step - loss: 5.5384e-07 - val_loss: 2.8829e-04\n",
            "Epoch 57/100\n",
            "84/84 [==============================] - 19s 223ms/step - loss: 4.1492e-07 - val_loss: 0.0011\n",
            "Epoch 58/100\n",
            "84/84 [==============================] - 19s 227ms/step - loss: 4.7953e-07 - val_loss: 7.6302e-04\n",
            "Epoch 59/100\n",
            "84/84 [==============================] - 21s 246ms/step - loss: 4.2039e-07 - val_loss: 4.3333e-04\n",
            "Epoch 60/100\n",
            "84/84 [==============================] - 19s 226ms/step - loss: 4.3325e-07 - val_loss: 0.0011\n",
            "Epoch 61/100\n",
            "84/84 [==============================] - 19s 223ms/step - loss: 3.6773e-07 - val_loss: 0.0011\n",
            "Epoch 62/100\n",
            "84/84 [==============================] - 19s 223ms/step - loss: 3.3174e-07 - val_loss: 0.0013\n",
            "Epoch 63/100\n",
            "84/84 [==============================] - 19s 226ms/step - loss: 5.2185e-07 - val_loss: 0.0015\n",
            "Epoch 64/100\n",
            "84/84 [==============================] - 19s 224ms/step - loss: 4.9774e-07 - val_loss: 6.4932e-04\n",
            "Epoch 65/100\n",
            "84/84 [==============================] - 18s 219ms/step - loss: 3.6696e-07 - val_loss: 5.9328e-04\n",
            "Epoch 66/100\n",
            "84/84 [==============================] - 19s 221ms/step - loss: 3.9089e-07 - val_loss: 6.0360e-04\n",
            "Epoch 67/100\n",
            "84/84 [==============================] - 18s 221ms/step - loss: 3.1430e-07 - val_loss: 7.3476e-04\n",
            "Epoch 68/100\n",
            "84/84 [==============================] - 18s 219ms/step - loss: 3.3772e-07 - val_loss: 7.8706e-04\n",
            "Epoch 69/100\n",
            "84/84 [==============================] - 18s 219ms/step - loss: 3.6224e-07 - val_loss: 9.1663e-04\n",
            "Epoch 70/100\n",
            "84/84 [==============================] - 19s 222ms/step - loss: 3.1993e-07 - val_loss: 0.0014\n",
            "Epoch 71/100\n",
            "84/84 [==============================] - 18s 219ms/step - loss: 6.1352e-07 - val_loss: 0.0012\n",
            "Epoch 72/100\n",
            "84/84 [==============================] - 19s 227ms/step - loss: 3.8124e-07 - val_loss: 7.0693e-04\n",
            "Epoch 73/100\n",
            "84/84 [==============================] - 19s 225ms/step - loss: 2.9311e-07 - val_loss: 7.9263e-04\n",
            "Epoch 74/100\n",
            "84/84 [==============================] - 21s 246ms/step - loss: 2.8558e-07 - val_loss: 6.2282e-04\n",
            "Epoch 75/100\n",
            "84/84 [==============================] - 19s 221ms/step - loss: 4.2535e-07 - val_loss: 6.3316e-04\n",
            "Epoch 76/100\n",
            "84/84 [==============================] - 19s 228ms/step - loss: 3.0505e-07 - val_loss: 9.9353e-04\n",
            "Epoch 77/100\n",
            "84/84 [==============================] - 19s 224ms/step - loss: 4.0184e-07 - val_loss: 0.0010\n",
            "Epoch 78/100\n",
            "84/84 [==============================] - 19s 224ms/step - loss: 3.2804e-07 - val_loss: 7.9720e-04\n",
            "Epoch 79/100\n",
            "84/84 [==============================] - 19s 222ms/step - loss: 3.3524e-07 - val_loss: 7.3906e-04\n",
            "Epoch 80/100\n",
            "84/84 [==============================] - 19s 224ms/step - loss: 2.6601e-07 - val_loss: 0.0011\n",
            "Epoch 81/100\n",
            "84/84 [==============================] - 19s 227ms/step - loss: 3.2726e-07 - val_loss: 4.6953e-04\n",
            "Epoch 82/100\n",
            "84/84 [==============================] - 19s 229ms/step - loss: 3.2899e-07 - val_loss: 0.0016\n",
            "Epoch 83/100\n",
            "84/84 [==============================] - 19s 227ms/step - loss: 3.1830e-07 - val_loss: 6.8677e-04\n",
            "Epoch 84/100\n",
            "84/84 [==============================] - 19s 223ms/step - loss: 3.2839e-07 - val_loss: 0.0021\n",
            "Epoch 85/100\n",
            "84/84 [==============================] - 19s 225ms/step - loss: 3.2997e-07 - val_loss: 9.9093e-04\n",
            "Epoch 86/100\n",
            "84/84 [==============================] - 19s 227ms/step - loss: 2.8051e-07 - val_loss: 6.9761e-04\n",
            "Epoch 87/100\n",
            "84/84 [==============================] - 19s 224ms/step - loss: 3.2947e-07 - val_loss: 0.0016\n",
            "Epoch 88/100\n",
            "84/84 [==============================] - 19s 224ms/step - loss: 4.3551e-07 - val_loss: 0.0012\n",
            "Epoch 89/100\n",
            "84/84 [==============================] - 18s 220ms/step - loss: 3.1562e-07 - val_loss: 0.0015\n",
            "Epoch 90/100\n",
            "84/84 [==============================] - 21s 248ms/step - loss: 3.2625e-07 - val_loss: 0.0013\n",
            "Epoch 91/100\n",
            "84/84 [==============================] - 19s 225ms/step - loss: 2.8326e-07 - val_loss: 0.0011\n",
            "Epoch 92/100\n",
            "84/84 [==============================] - 19s 228ms/step - loss: 3.4529e-07 - val_loss: 5.0464e-04\n",
            "Epoch 93/100\n",
            "84/84 [==============================] - 19s 227ms/step - loss: 3.0296e-07 - val_loss: 9.2535e-04\n",
            "Epoch 94/100\n",
            "84/84 [==============================] - 19s 222ms/step - loss: 2.9888e-07 - val_loss: 3.5757e-04\n",
            "Epoch 95/100\n",
            "84/84 [==============================] - 19s 227ms/step - loss: 3.0117e-07 - val_loss: 0.0017\n",
            "Epoch 96/100\n",
            "84/84 [==============================] - 19s 223ms/step - loss: 3.3427e-07 - val_loss: 0.0012\n",
            "Epoch 97/100\n",
            "84/84 [==============================] - 19s 221ms/step - loss: 2.9144e-07 - val_loss: 0.0016\n",
            "Epoch 98/100\n",
            "84/84 [==============================] - 19s 225ms/step - loss: 3.3911e-07 - val_loss: 0.0017\n",
            "Epoch 99/100\n",
            "84/84 [==============================] - 19s 222ms/step - loss: 3.3984e-07 - val_loss: 0.0012\n",
            "Epoch 100/100\n",
            "84/84 [==============================] - 19s 224ms/step - loss: 2.3731e-07 - val_loss: 0.0012\n"
          ]
        },
        {
          "output_type": "execute_result",
          "data": {
            "text/plain": [
              "<keras.callbacks.History at 0x7fdead5db610>"
            ]
          },
          "metadata": {},
          "execution_count": 24
        }
      ]
    },
    {
      "cell_type": "code",
      "source": [
        "import tensorflow as tf"
      ],
      "metadata": {
        "id": "fZIVYSAAIHcl"
      },
      "execution_count": null,
      "outputs": []
    },
    {
      "cell_type": "code",
      "source": [
        "tf.__version__"
      ],
      "metadata": {
        "colab": {
          "base_uri": "https://localhost:8080/",
          "height": 36
        },
        "id": "q9Xp9BAlIok9",
        "outputId": "282b9adf-83df-4b87-e492-eb668a1ac40b"
      },
      "execution_count": null,
      "outputs": [
        {
          "output_type": "execute_result",
          "data": {
            "text/plain": [
              "'2.9.2'"
            ],
            "application/vnd.google.colaboratory.intrinsic+json": {
              "type": "string"
            }
          },
          "metadata": {},
          "execution_count": 26
        }
      ]
    },
    {
      "cell_type": "code",
      "source": [
        "### Lets Do the prediction and check performance metrics\n",
        "train_predict=model.predict(X_train)\n",
        "test_predict=model.predict(X_test)"
      ],
      "metadata": {
        "colab": {
          "base_uri": "https://localhost:8080/"
        },
        "id": "a2zVJgBdIrJA",
        "outputId": "173cdc3a-c438-457d-9179-c3afdd437a40"
      },
      "execution_count": null,
      "outputs": [
        {
          "output_type": "stream",
          "name": "stdout",
          "text": [
            "167/167 [==============================] - 7s 36ms/step\n",
            "89/89 [==============================] - 3s 36ms/step\n"
          ]
        }
      ]
    },
    {
      "cell_type": "code",
      "source": [
        "##Transformback to original form\n",
        "train_predict=scaler.inverse_transform(train_predict)\n",
        "test_predict=scaler.inverse_transform(test_predict)"
      ],
      "metadata": {
        "id": "S15eFr7HIuRr"
      },
      "execution_count": null,
      "outputs": []
    },
    {
      "cell_type": "code",
      "source": [
        "### Calculate RMSE performance metrics\n",
        "import math\n",
        "from sklearn.metrics import mean_squared_error\n",
        "math.sqrt(mean_squared_error(y_train,train_predict))"
      ],
      "metadata": {
        "colab": {
          "base_uri": "https://localhost:8080/"
        },
        "id": "vIC4jLgwIw89",
        "outputId": "856bf3d9-a63a-4013-dabb-7c4974b24800"
      },
      "execution_count": null,
      "outputs": [
        {
          "output_type": "execute_result",
          "data": {
            "text/plain": [
              "2.159143994158161"
            ]
          },
          "metadata": {},
          "execution_count": 29
        }
      ]
    },
    {
      "cell_type": "code",
      "source": [
        "### Test Data RMSE\n",
        "math.sqrt(mean_squared_error(ytest,test_predict))"
      ],
      "metadata": {
        "colab": {
          "base_uri": "https://localhost:8080/"
        },
        "id": "VMOiNtILIz5Y",
        "outputId": "938c6597-d306-4416-957d-3be2b94c0d1d"
      },
      "execution_count": null,
      "outputs": [
        {
          "output_type": "execute_result",
          "data": {
            "text/plain": [
              "69.49461912711568"
            ]
          },
          "metadata": {},
          "execution_count": 30
        }
      ]
    },
    {
      "cell_type": "code",
      "source": [
        "### Plotting \n",
        "# shift train predictions for plotting\n",
        "look_back=100\n",
        "trainPredictPlot = numpy.empty_like(df1)\n",
        "trainPredictPlot[:, :] = np.nan\n",
        "trainPredictPlot[look_back:len(train_predict)+look_back, :] = train_predict\n",
        "# shift test predictions for plotting\n",
        "testPredictPlot = numpy.empty_like(df1)\n",
        "testPredictPlot[:, :] = numpy.nan\n",
        "testPredictPlot[len(train_predict)+(look_back*2)+1:len(df1)-1, :] = test_predict\n",
        "# plot baseline and predictions\n",
        "plt.plot(scaler.inverse_transform(df1))\n",
        "plt.plot(trainPredictPlot)\n",
        "plt.plot(testPredictPlot)\n",
        "plt.show()"
      ],
      "metadata": {
        "colab": {
          "base_uri": "https://localhost:8080/",
          "height": 265
        },
        "id": "3jTSqKmdI2_P",
        "outputId": "a48493f2-0476-4fee-e508-8211b11ecc49"
      },
      "execution_count": null,
      "outputs": [
        {
          "output_type": "display_data",
          "data": {
            "text/plain": [
              "<Figure size 432x288 with 1 Axes>"
            ],
            "image/png": "[encoded data removed]"
          },
          "metadata": {
            "needs_background": "light"
          }
        }
      ]
    },
    {
      "cell_type": "code",
      "source": [
        "len(test_data)"
      ],
      "metadata": {
        "colab": {
          "base_uri": "https://localhost:8080/"
        },
        "id": "qp0_aAw1I692",
        "outputId": "fd7aa1a3-27df-4593-e928-b6997eb15cf3"
      },
      "execution_count": null,
      "outputs": [
        {
          "output_type": "execute_result",
          "data": {
            "text/plain": [
              "2928"
            ]
          },
          "metadata": {},
          "execution_count": 33
        }
      ]
    },
    {
      "cell_type": "code",
      "source": [
        "x_input=test_data[341:].reshape(1,-1)\n",
        "x_input.shape"
      ],
      "metadata": {
        "colab": {
          "base_uri": "https://localhost:8080/"
        },
        "id": "udOIHycfI_rq",
        "outputId": "f90f0a12-faa9-41dc-f82c-6190e89d0a30"
      },
      "execution_count": null,
      "outputs": [
        {
          "output_type": "execute_result",
          "data": {
            "text/plain": [
              "(1, 2587)"
            ]
          },
          "metadata": {},
          "execution_count": 34
        }
      ]
    },
    {
      "cell_type": "code",
      "source": [
        "temp_input=list(x_input)\n",
        "temp_input=temp_input[0].tolist()"
      ],
      "metadata": {
        "id": "iALnTjqAJCkk"
      },
      "execution_count": null,
      "outputs": []
    },
    {
      "cell_type": "code",
      "source": [
        "temp_input"
      ],
      "metadata": {
        "colab": {
          "base_uri": "https://localhost:8080/"
        },
        "id": "UV-0K95-JFWW",
        "outputId": "358df510-a5d8-46d0-a540-3b0e297194f1"
      },
      "execution_count": null,
      "outputs": [
        {
          "output_type": "execute_result",
          "data": {
            "text/plain": [
              "[0.09727756649309449,\n",
              " 0.09653061483985385,\n",
              " 0.09098834761122865,\n",
              " 0.08995059798611571,\n",
              " 0.09200328955227319,\n",
              " 0.08924355977999479,\n",
              " 0.08623864740398093,\n",
              " 0.08415174431172083,\n",
              " 0.08780667568368457,\n",
              " 0.08791501218300954,\n",
              " 0.09183223192176006,\n",
              " 0.09544154792558697,\n",
              " 0.09438669253742273,\n",
              " 0.09748853757072734,\n",
              " 0.09525338453202253,\n",
              " 0.09128484750411806,\n",
              " 0.0965876340500249,\n",
              " 0.09816706617176273,\n",
              " 0.0997921136616374,\n",
              " 0.1039545160041234,\n",
              " 0.0985490948799087,\n",
              " 0.09727186457207739,\n",
              " 0.09490556734997918,\n",
              " 0.09850918143278899,\n",
              " 0.09763108559615494,\n",
              " 0.09861181601109684,\n",
              " 0.09887410437788363,\n",
              " 0.10004299818638998,\n",
              " 0.09974079637248345,\n",
              " 0.1015939207030423,\n",
              " 0.1014627765196489,\n",
              " 0.10113206510065686,\n",
              " 0.10394881408310629,\n",
              " 0.10696513030115436,\n",
              " 0.11052883093684443,\n",
              " 0.11024373488598924,\n",
              " 0.11150956135178634,\n",
              " 0.11074550393549439,\n",
              " 0.1128381089487716,\n",
              " 0.11438903146542392,\n",
              " 0.11399559891524373,\n",
              " 0.11276968589656634,\n",
              " 0.1165728672149748,\n",
              " 0.12129975973815411,\n",
              " 0.12125984629103437,\n",
              " 0.1204672792696569,\n",
              " 0.1171487612377023,\n",
              " 0.12081509645170026,\n",
              " 0.12060412537406741,\n",
              " 0.12250286507276306,\n",
              " 0.12484065268977576,\n",
              " 0.12537093134436644,\n",
              " 0.12312437446362742,\n",
              " 0.12600954649828208,\n",
              " 0.1346194472341093,\n",
              " 0.1344597934456304,\n",
              " 0.1321505154337032,\n",
              " 0.13355318800391083,\n",
              " 0.13383828405476608,\n",
              " 0.13524095662497365,\n",
              " 0.13739628276943902,\n",
              " 0.13554886035989727,\n",
              " 0.1358681679368551,\n",
              " 0.13463655299716062,\n",
              " 0.13872483036642425,\n",
              " 0.13471637989140006,\n",
              " 0.1268021135196596,\n",
              " 0.11944663540759526,\n",
              " 0.11096217693414434,\n",
              " 0.12278796112361828,\n",
              " 0.11998831790422017,\n",
              " 0.1186540683862178,\n",
              " 0.1201878851398188,\n",
              " 0.1184031838614652,\n",
              " 0.1219782883391895,\n",
              " 0.12168749036731717,\n",
              " 0.1239397491690733,\n",
              " 0.12468099890129686,\n",
              " 0.12633455599625704,\n",
              " 0.13028598726111018,\n",
              " 0.13325098619000433,\n",
              " 0.13173997712047172,\n",
              " 0.12930525684616828,\n",
              " 0.12998378544720365,\n",
              " 0.13413478394765543,\n",
              " 0.13739628276943902,\n",
              " 0.14056655085494893,\n",
              " 0.14050953164477786,\n",
              " 0.13635853314432606,\n",
              " 0.13804630176538887,\n",
              " 0.1387533399715098,\n",
              " 0.1377041865043626,\n",
              " 0.13333651500526086,\n",
              " 0.13229876538014795,\n",
              " 0.13240139995845582,\n",
              " 0.13538350465040125,\n",
              " 0.14028145480409368,\n",
              " 0.14385085736080086,\n",
              " 0.14395919386012584,\n",
              " 0.14367979973028772,\n",
              " 0.1446035109350586,\n",
              " 0.14333198254824436,\n",
              " 0.14095428148411196,\n",
              " 0.1410284064573343,\n",
              " 0.13015484307771677,\n",
              " 0.1283929494834316,\n",
              " 0.12374018193347466,\n",
              " 0.1296758817122801,\n",
              " 0.12866664169225261,\n",
              " 0.12478933540062181,\n",
              " 0.12924823763599724,\n",
              " 0.12212083636461711,\n",
              " 0.11525002153900665,\n",
              " 0.11616803082276039,\n",
              " 0.11651014608378665,\n",
              " 0.11232493605723223,\n",
              " 0.10023686350097151,\n",
              " 0.0977052105693773,\n",
              " 0.09362263512113075,\n",
              " 0.09362263512113075,\n",
              " 0.09473450971946605,\n",
              " 0.09520776916388571,\n",
              " 0.09753985485988127,\n",
              " 0.09635385528832363,\n",
              " 0.09482003853472261,\n",
              " 0.09313797183467691,\n",
              " 0.08776676223656484,\n",
              " 0.08721367589790574,\n",
              " 0.09031552093121037,\n",
              " 0.09320639488688216,\n",
              " 0.08986506917085915,\n",
              " 0.09316648143976243,\n",
              " 0.0917524050275206,\n",
              " 0.08969971346136313,\n",
              " 0.08788650257792402,\n",
              " 0.08909530983355009,\n",
              " 0.087447454659607,\n",
              " 0.0859022340639718,\n",
              " 0.08612460898363886,\n",
              " 0.08568556106532182,\n",
              " 0.08847950236370285,\n",
              " 0.09354280822689129,\n",
              " 0.08996770374916702,\n",
              " 0.0875843007640175,\n",
              " 0.08969401154034602,\n",
              " 0.08958567504102105,\n",
              " 0.08697419521518737,\n",
              " 0.08793781986707797,\n",
              " 0.08608469553651912,\n",
              " 0.09167257813328115,\n",
              " 0.09071465540240767,\n",
              " 0.09211162605159817,\n",
              " 0.09113089563665626,\n",
              " 0.09122782829394703,\n",
              " 0.09566962476627114,\n",
              " 0.09336604867536107,\n",
              " 0.09599463426424606,\n",
              " 0.10059038260403197,\n",
              " 0.10163383415016203,\n",
              " 0.10462164076312458,\n",
              " 0.10108074781150292,\n",
              " 0.1031163336146091,\n",
              " 0.10346985271766955,\n",
              " 0.10786603382185682,\n",
              " 0.10637783243639265,\n",
              " 0.10938844673342361,\n",
              " 0.1104604078846392,\n",
              " 0.11251880137181376,\n",
              " 0.11029505217514318,\n",
              " 0.10926870639206442,\n",
              " 0.11153807095687188,\n",
              " 0.10612694791164007,\n",
              " 0.1065888035140255,\n",
              " 0.10703925527437673,\n",
              " 0.11091085964499041,\n",
              " 0.11150385943076925,\n",
              " 0.11627636732208539,\n",
              " 0.12147081736866722,\n",
              " 0.11566055985223814,\n",
              " 0.11762772260313906,\n",
              " 0.12205241331241184,\n",
              " 0.12262260541412226,\n",
              " 0.12445292206061268,\n",
              " 0.1265113155477873,\n",
              " 0.12569594084234137,\n",
              " 0.13012063155161416,\n",
              " 0.13081626591570086,\n",
              " 0.13357029376696214,\n",
              " 0.13499007210022107,\n",
              " 0.13330230347915825,\n",
              " 0.13381547637069763,\n",
              " 0.13262947679913997,\n",
              " 0.13608484093550507,\n",
              " 0.1374076866114732,\n",
              " 0.13469357220733166,\n",
              " 0.13723092705994297,\n",
              " 0.13569140838532487,\n",
              " 0.13273781329846496,\n",
              " 0.13443128384054487,\n",
              " 0.12879778587564605,\n",
              " 0.1279653054071488,\n",
              " 0.1309816216251969,\n",
              " 0.13481901446970795,\n",
              " 0.13524665854599074,\n",
              " 0.13500717786327238,\n",
              " 0.13650678309077074,\n",
              " 0.13456812994495537,\n",
              " 0.1340378512903647,\n",
              " 0.1339181109490055,\n",
              " 0.13700285021925884,\n",
              " 0.13424312044698045,\n",
              " 0.13129522728113763,\n",
              " 0.13424312044698045,\n",
              " 0.1307193332584101,\n",
              " 0.12520557563487042,\n",
              " 0.12454985471790345,\n",
              " 0.1278170554607041,\n",
              " 0.13115838117672712,\n",
              " 0.12922542995192882,\n",
              " 0.13078205438959825,\n",
              " 0.12667096933626618,\n",
              " 0.12512004681961386,\n",
              " 0.1251941717928362,\n",
              " 0.12821048801088428,\n",
              " 0.12153924042087247,\n",
              " 0.12287348993887484,\n",
              " 0.12095764447712791,\n",
              " 0.12623762333896626,\n",
              " 0.12148792313171854,\n",
              " 0.12290199954396036,\n",
              " 0.1265911424420267,\n",
              " 0.1297899201326221,\n",
              " 0.12592401768302555,\n",
              " 0.12766880551425938,\n",
              " 0.12471521042739947,\n",
              " 0.12565602739522164,\n",
              " 0.12254848044089996,\n",
              " 0.12488626805791261,\n",
              " 0.12413931640467193,\n",
              " 0.11926987585606506,\n",
              " 0.12010805824557935,\n",
              " 0.1169948093702405,\n",
              " 0.12007954864049382,\n",
              " 0.11481097362068962,\n",
              " 0.11706323242244575,\n",
              " 0.11142973445754689,\n",
              " 0.1133911952874307,\n",
              " 0.11542107916951976,\n",
              " 0.1147539544105186,\n",
              " 0.11307758963148998,\n",
              " 0.11056874438396416,\n",
              " 0.11598556935021306,\n",
              " 0.11858564533401254,\n",
              " 0.11812949165264422,\n",
              " 0.12248005738869465,\n",
              " 0.12542224863352036,\n",
              " 0.1277372285664647,\n",
              " 0.1296131605810919,\n",
              " 0.129618862502109,\n",
              " 0.12700168075525822,\n",
              " 0.12675649815152273,\n",
              " 0.12539373902843487,\n",
              " 0.12707580572848057,\n",
              " 0.12595822920912816,\n",
              " 0.12778284393460146,\n",
              " 0.124686700822314,\n",
              " 0.1254735659226743,\n",
              " 0.12623192141794914,\n",
              " 0.12554769089589665,\n",
              " 0.12246295162564333,\n",
              " 0.120033933272357,\n",
              " 0.1205870196110161,\n",
              " 0.11640751150547878,\n",
              " 0.11564915601020394,\n",
              " 0.11399559891524373,\n",
              " 0.10943976402257755,\n",
              " 0.10938844673342361,\n",
              " 0.11015250414971557,\n",
              " 0.10743838974557401,\n",
              " 0.1011719785477766,\n",
              " 0.10082986328675035,\n",
              " 0.0920203953153245,\n",
              " 0.0965990378920591,\n",
              " 0.10158251686100808,\n",
              " 0.09436958677437139,\n",
              " 0.09130195326716938,\n",
              " 0.09267611623229148,\n",
              " 0.09503100961235549,\n",
              " 0.09232259712923102,\n",
              " 0.07554754549691073,\n",
              " 0.08166570674826344,\n",
              " 0.07837569832139438,\n",
              " 0.0717728737835878,\n",
              " 0.06954912458691721,\n",
              " 0.07034739352931178,\n",
              " 0.06379588628065916,\n",
              " 0.0642520399620275,\n",
              " 0.06347657870370133,\n",
              " 0.06936666311436988,\n",
              " 0.07918537110582315,\n",
              " 0.0746922573443451,\n",
              " 0.0702276531879526,\n",
              " 0.07309001753853886,\n",
              " 0.0698057110326869,\n",
              " 0.07055836460694463,\n",
              " 0.06549505874375619,\n",
              " 0.0694065765614896,\n",
              " 0.07041011466049993,\n",
              " 0.06907016322148046,\n",
              " 0.06592840474105609,\n",
              " 0.07163602767917732,\n",
              " 0.07501726684232005,\n",
              " 0.07977837089160197,\n",
              " 0.07725812180204196,\n",
              " 0.07679056427863942,\n",
              " 0.07973845744448224,\n",
              " 0.07411066140060049,\n",
              " 0.0710487298144156,\n",
              " 0.07041581658151704,\n",
              " 0.06869383643435159,\n",
              " 0.06788986557093991,\n",
              " 0.06449152064474586,\n",
              " 0.06911577858961729,\n",
              " 0.06457134753898532,\n",
              " 0.06304323270640143,\n",
              " 0.06433756877728404,\n",
              " 0.06169187742534775,\n",
              " 0.05745535010963939,\n",
              " 0.0589891668632404,\n",
              " 0.06655561605293756,\n",
              " 0.06498758777323392,\n",
              " 0.06806092320145303,\n",
              " 0.0663503468963218,\n",
              " 0.06362482865014603,\n",
              " 0.0662020969498771,\n",
              " 0.06871094219740291,\n",
              " 0.06543233761256803,\n",
              " 0.0673196734692295,\n",
              " 0.07149918157476681,\n",
              " 0.0717500660995194,\n",
              " 0.07039300889744862,\n",
              " 0.06806092320145303,\n",
              " 0.07043862426558545,\n",
              " 0.0678784617289057,\n",
              " 0.06836882693637665,\n",
              " 0.06379588628065916,\n",
              " 0.0639897515952407,\n",
              " 0.06440599182948929,\n",
              " 0.061287041033133344,\n",
              " 0.06176030047755299,\n",
              " 0.06079097390464529,\n",
              " 0.06133835832228729,\n",
              " 0.06192565618704901,\n",
              " 0.06169187742534775,\n",
              " 0.06101334882431235,\n",
              " 0.0649533762471313,\n",
              " 0.0677473175455123,\n",
              " 0.06660693334209149,\n",
              " 0.06514724156171284,\n",
              " 0.06637315458039023,\n",
              " 0.0648165301427208,\n",
              " 0.06341955949353029,\n",
              " 0.0627353289714778,\n",
              " 0.06099624306126104,\n",
              " 0.05957646472800212,\n",
              " 0.058801003469675955,\n",
              " 0.055784687251627885,\n",
              " 0.05917162833578773,\n",
              " 0.06319718457386322,\n",
              " 0.06319718457386322,\n",
              " 0.0641380015416854,\n",
              " 0.06493627048407999,\n",
              " 0.0674679234156742,\n",
              " 0.06659552950005727,\n",
              " 0.06450292448678006,\n",
              " 0.06550646258579039,\n",
              " 0.06657842373700597,\n",
              " 0.06699466397125457,\n",
              " 0.06913288435266861,\n",
              " 0.07149918157476681,\n",
              " 0.07353476737787298,\n",
              " 0.07013072053066183,\n",
              " 0.06937236503538698,\n",
              " 0.07117417207679187,\n",
              " 0.07109434518255243,\n",
              " 0.06771310601940968,\n",
              " 0.06759336567805051,\n",
              " 0.06486214551085763,\n",
              " 0.06527838574510623,\n",
              " 0.062170838790784486,\n",
              " 0.06457704946000242,\n",
              " 0.0652498761400207,\n",
              " 0.06381299204371048,\n",
              " 0.06390422277998414,\n",
              " 0.06291208852300802,\n",
              " 0.06320288649488033,\n",
              " 0.0652612799820549,\n",
              " 0.06355640559794079,\n",
              " 0.060973435377192624,\n",
              " 0.059365493650369264,\n",
              " 0.06339675180946187,\n",
              " 0.0663560488173389,\n",
              " 0.06904735553741204,\n",
              " 0.06873374988147132,\n",
              " 0.06835742309434244,\n",
              " 0.07145356620662999,\n",
              " 0.07281062340870076,\n",
              " 0.07289045030294021,\n",
              " 0.0728676426188718,\n",
              " 0.077315141012213,\n",
              " 0.07644844901761318,\n",
              " 0.07644274709659607,\n",
              " 0.07890597697598506,\n",
              " 0.07669933354236576,\n",
              " 0.0749716514741832,\n",
              " 0.07545061283961996,\n",
              " 0.07804498690240233,\n",
              " 0.08099288006824516,\n",
              " 0.08338198497441177,\n",
              " 0.08517809009479957,\n",
              " 0.08266354292625666,\n",
              " 0.08362146565713015,\n",
              " 0.08599346480024546,\n",
              " 0.0864781280866993,\n",
              " 0.08507545551649169,\n",
              " 0.08458509030902074,\n",
              " 0.08737332968638466,\n",
              " 0.08881591570371199,\n",
              " 0.08667199340128084,\n",
              " 0.08761281036910301,\n",
              " 0.08741894505452148,\n",
              " 0.09025279980002224,\n",
              " 0.08915232904372113,\n",
              " 0.08976813651356838,\n",
              " 0.08915232904372113,\n",
              " 0.09005323256442359,\n",
              " 0.09055500161392875,\n",
              " 0.09159845316005881,\n",
              " 0.09512224034862914,\n",
              " 0.09557839402999746,\n",
              " 0.09543014408355276,\n",
              " 0.09293270267806115,\n",
              " 0.09301823149331773,\n",
              " 0.09329192370213871,\n",
              " 0.08954576159390132,\n",
              " 0.0859307436690573,\n",
              " 0.08846809852166865,\n",
              " 0.08806896405047135,\n",
              " 0.09116510716275888,\n",
              " 0.0917524050275206,\n",
              " 0.09058921314003136,\n",
              " 0.08936330012135399,\n",
              " 0.0881316851816595,\n",
              " 0.09418142338080697,\n",
              " 0.09582927855475004,\n",
              " 0.09731177801919712,\n",
              " 0.09784775859480489,\n",
              " 0.10045353649962148,\n",
              " 0.10055617107792934,\n",
              " 0.1016110264660936,\n",
              " 0.10364091034818268,\n",
              " 0.10431943894921807,\n",
              " 0.10372073724242213,\n",
              " 0.10291676637901045,\n",
              " 0.10108074781150292,\n",
              " 0.10087547865488719,\n",
              " 0.09869734482635341,\n",
              " 0.09805872967243776,\n",
              " 0.09823548922396798,\n",
              " 0.09768810480632598,\n",
              " 0.09789907588395882,\n",
              " 0.10055046915691224,\n",
              " 0.09899384471924282,\n",
              " 0.09653061483985385,\n",
              " 0.0981442584876943,\n",
              " 0.100812757523699,\n",
              " 0.10269439145934339,\n",
              " 0.10234087235628293,\n",
              " 0.10268868953832629,\n",
              " 0.1029851894312157,\n",
              " 0.10092109402302402,\n",
              " 0.0998890463189282,\n",
              " 0.09756836446496679,\n",
              " 0.09888550821991784,\n",
              " 0.09824689306600218,\n",
              " 0.09982062326672295,\n",
              " 0.10262026648612105,\n",
              " 0.10256894919696712,\n",
              " 0.10593878451807562,\n",
              " 0.10639493819944397,\n",
              " 0.10949108131173149,\n",
              " 0.11035207138531421,\n",
              " 0.10931432176020127,\n",
              " 0.11313460884166102,\n",
              " 0.11392717586303848,\n",
              " 0.11551230990579343,\n",
              " 0.11559213680003289,\n",
              " 0.11551230990579343,\n",
              " 0.11553511758986183,\n",
              " 0.11756500147195091,\n",
              " 0.11799264554823372,\n",
              " 0.12021639474490432,\n",
              " 0.11957207766997156,\n",
              " 0.11924706817199661,\n",
              " 0.1183746742563797,\n",
              " 0.11953786614386894,\n",
              " 0.1189505682791072,\n",
              " 0.11758210723500223,\n",
              " 0.11940102003945843,\n",
              " 0.12165327884121455,\n",
              " 0.1204615773486398,\n",
              " 0.1152101080918869,\n",
              " 0.11843739538756783,\n",
              " 0.11887074138486779,\n",
              " 0.12013656785066487,\n",
              " 0.1222690863110618,\n",
              " 0.1221379421276684,\n",
              " 0.12238882665242098,\n",
              " 0.12094053871407653,\n",
              " 0.12242874009954073,\n",
              " 0.12285068225480641,\n",
              " 0.12151643273680407,\n",
              " 0.11938961619742423,\n",
              " 0.11929268354013346,\n",
              " 0.12028481779710957,\n",
              " 0.12303884564837086,\n",
              " 0.12496039303113493,\n",
              " 0.1236660569602523,\n",
              " 0.12469810466434816,\n",
              " 0.12439020092942452,\n",
              " 0.12553058513284535,\n",
              " 0.1265911424420267,\n",
              " 0.13147768875368496,\n",
              " 0.13344485150458585,\n",
              " 0.13378126484459502,\n",
              " 0.13306282279643988,\n",
              " 0.13339353421543193,\n",
              " 0.13413478394765543,\n",
              " 0.13290887092897807,\n",
              " 0.13186541938284801,\n",
              " 0.1346137453130922,\n",
              " 0.13404925513239888,\n",
              " 0.13402644744833048,\n",
              " 0.1307478428634956,\n",
              " 0.13370143795035552,\n",
              " 0.13451681265580143,\n",
              " 0.13744189813757585,\n",
              " 0.13759585000503763,\n",
              " 0.13688881179891677,\n",
              " 0.13776690763555077,\n",
              " 0.13801779216030335,\n",
              " 0.13744760005859294,\n",
              " 0.1383656093423467,\n",
              " 0.1378296287667389,\n",
              " 0.13600501404126558,\n",
              " 0.13732215779621665,\n",
              " 0.14381664583469828,\n",
              " 0.14832686535922757,\n",
              " 0.14853213451584332,\n",
              " 0.14760272139005537,\n",
              " 0.146542164080874,\n",
              " 0.14280170389365368,\n",
              " 0.1391752821267755,\n",
              " 0.14206045416143015,\n",
              " 0.13633002353924054,\n",
              " 0.13692302332501935,\n",
              " 0.13650678309077074,\n",
              " 0.13801779216030335,\n",
              " 0.14037268554036736,\n",
              " 0.1405893585390173,\n",
              " 0.14577810666458205,\n",
              " 0.14690138510495154,\n",
              " 0.14708384657749887,\n",
              " 0.14617724113577935,\n",
              " 0.14796764433515003,\n",
              " 0.1495698841409563,\n",
              " 0.14983787442876018,\n",
              " 0.1490681150914511,\n",
              " 0.14509387614252955,\n",
              " 0.14466053014522964,\n",
              " 0.1490110958812801,\n",
              " 0.1479619424141329,\n",
              " 0.1477851828626027,\n",
              " 0.14515659727371769,\n",
              " 0.14465482822421255,\n",
              " 0.1425109059217814,\n",
              " 0.1419692234251565,\n",
              " 0.14216879066075516,\n",
              " 0.13984240688577668,\n",
              " 0.13665503303721546,\n",
              " 0.13733356163825086,\n",
              " 0.14312101147061151,\n",
              " 0.1421231752926183,\n",
              " 0.14082313730071858,\n",
              " 0.1425166078427985,\n",
              " 0.14047532011867522,\n",
              " 0.14109682950953956,\n",
              " 0.1387818495765953,\n",
              " 0.14139332940242896,\n",
              " 0.14344031904756935,\n",
              " 0.14499124156422166,\n",
              " 0.14625706803001878,\n",
              " 0.15133177773524145,\n",
              " 0.1532020078288516,\n",
              " 0.15137739310337828,\n",
              " 0.15322481551292003,\n",
              " 0.15256909459595305,\n",
              " 0.15495249758110255,\n",
              " 0.15522618978992356,\n",
              " 0.15273445030544905,\n",
              " 0.15245505617561098,\n",
              " 0.15347570003767258,\n",
              " 0.1521072389935676,\n",
              " 0.15036245116233374,\n",
              " 0.15251207538578201,\n",
              " 0.1516054699440625,\n",
              " 0.1490453074073827,\n",
              " 0.15571085307637741,\n",
              " 0.15328753664410816,\n",
              " 0.15061333568708632,\n",
              " 0.1430753961024747,\n",
              " 0.1469698081571568,\n",
              " 0.1490510093283998,\n",
              " 0.15047078766165872,\n",
              " 0.1442043764638613,\n",
              " 0.1389243976020229,\n",
              " 0.14087445458987252,\n",
              " 0.1416955312163355,\n",
              " 0.14415876109572448,\n",
              " 0.13891869568100582,\n",
              " 0.1414161370864974,\n",
              " 0.1404354066715555,\n",
              " 0.14194641574108807,\n",
              " 0.14117095448276193,\n",
              " 0.14374822278249297,\n",
              " 0.1450026454062559,\n",
              " 0.14720928883987516,\n",
              " 0.14658777944901083,\n",
              " 0.14686717357884896,\n",
              " 0.14594916429509516,\n",
              " 0.1450311550113414,\n",
              " 0.14258503089500374,\n",
              " 0.14521361648388875,\n",
              " 0.14618294305679644,\n",
              " 0.14809308659752635,\n",
              " 0.1512975662091388,\n",
              " 0.15120063355184807,\n",
              " 0.15154274881287433,\n",
              " 0.15255198883290172,\n",
              " 0.15856181358492946,\n",
              " 0.1586530443212031,\n",
              " 0.1615268125138236,\n",
              " 0.16286676395284305,\n",
              " 0.16334572531827982,\n",
              " 0.16414969618169148,\n",
              " 0.16213691806265373,\n",
              " 0.16257026405995365,\n",
              " 0.16233078337723528,\n",
              " 0.16272421592741546,\n",
              " 0.1609794280961816,\n",
              " 0.16280404282165492,\n",
              " 0.1654326284105399,\n",
              " 0.16615677237971213,\n",
              " 0.16419531154982833,\n",
              " 0.16729145466211584,\n",
              " 0.16836911773434854,\n",
              " 0.17090647258695985,\n",
              " 0.17027926127507842,\n",
              " 0.17099200140221643,\n",
              " 0.17283942381175818,\n",
              " 0.17358637546499878,\n",
              " 0.17437324056535916,\n",
              " 0.17389998112093952,\n",
              " 0.1752342306389419,\n",
              " 0.17559915358403655,\n",
              " 0.1757074900833615,\n",
              " 0.17809089306851103,\n",
              " 0.18044008452755794,\n",
              " 0.17932820992922263,\n",
              " 0.17909443116752136,\n",
              " 0.17729262412611646,\n",
              " 0.18796662027013533,\n",
              " 0.19326940681604216,\n",
              " 0.19643967490155204,\n",
              " 0.1954817521706786,\n",
              " 0.1900250137573099,\n",
              " 0.1897114081013692,\n",
              " 0.19483743509574583,\n",
              " 0.18934078323525744,\n",
              " 0.1931724741587514,\n",
              " 0.18756748579893806,\n",
              " 0.18561172689007135,\n",
              " 0.17850713330275964,\n",
              " 0.17091787642899406,\n",
              " 0.18414063126765848,\n",
              " 0.18601086136126865,\n",
              " 0.19006492720442966,\n",
              " 0.18733370703723679,\n",
              " 0.18401518900528221,\n",
              " 0.18431168889817162,\n",
              " 0.18296033361711797,\n",
              " 0.18002954621432643,\n",
              " 0.17229774131513326,\n",
              " 0.17562766318912207,\n",
              " 0.17886065240582008,\n",
              " 0.17773737396545058,\n",
              " 0.1769448069440731,\n",
              " 0.18367877566527308,\n",
              " 0.18625604396500411,\n",
              " 0.1891412159996588,\n",
              " 0.19142768632751755,\n",
              " 0.19082328269970453,\n",
              " 0.18558891920600296,\n",
              " 0.1819054782289537,\n",
              " 0.18073088249943023,\n",
              " 0.1762662783430377,\n",
              " 0.18162038217809848,\n",
              " 0.18380421792764937,\n",
              " 0.18435160234529133,\n",
              " 0.1883087355311616,\n",
              " 0.19382249315470126,\n",
              " 0.19720373231784402,\n",
              " 0.19881167404466735,\n",
              " 0.1959721173781495,\n",
              " 0.19864631833517135,\n",
              " 0.19654230947985996,\n",
              " 0.1950997234625326,\n",
              " 0.1934347625255382,\n",
              " 0.19460365633404453,\n",
              " 0.18574287107346474,\n",
              " 0.18235592998930492,\n",
              " 0.18013788271365141,\n",
              " 0.17899749851023058,\n",
              " 0.18024621921297637,\n",
              " 0.18756178387792097,\n",
              " 0.18714554364367236,\n",
              " 0.18825741824200765,\n",
              " 0.18656394769992776,\n",
              " 0.18256119914592067,\n",
              " 0.18322832390492186,\n",
              " 0.18228750693709966,\n",
              " 0.18116993041774723,\n",
              " 0.17800536425325447,\n",
              " 0.1826296221981259,\n",
              " 0.18431739081918871,\n",
              " 0.18782407224470773,\n",
              " 0.18849119700370895,\n",
              " 0.18801223563827218,\n",
              " 0.19152461898480833,\n",
              " 0.1892381486569496,\n",
              " 0.18716264940672367,\n",
              " 0.18652973617382512,\n",
              " 0.1898824657318823,\n",
              " 0.1899508887840876,\n",
              " 0.19070924427936242,\n",
              " 0.18977412923255738,\n",
              " 0.18859953350303388,\n",
              " 0.1898140426796771,\n",
              " 0.18810916829556293,\n",
              " 0.181375199574363,\n",
              " 0.18254979530388646,\n",
              " 0.18057693063196842,\n",
              " 0.17951637332278705,\n",
              " 0.18266953564524566,\n",
              " 0.18347350650865732,\n",
              " 0.18115282465469593,\n",
              " 0.18097036318214862,\n",
              " 0.1781707199627505,\n",
              " 0.17388287535788818,\n",
              " 0.17604960534438777,\n",
              " 0.17414516372467498,\n",
              " 0.17512019221859979,\n",
              " 0.17576450929353257,\n",
              " 0.17619785529083248,\n",
              " 0.18148353607368797,\n",
              " 0.18281778559169035,\n",
              " 0.18764161077216043,\n",
              " 0.1869402744870566,\n",
              " 0.19066933083224272,\n",
              " 0.19077766733156767,\n",
              " 0.19102284993530314,\n",
              " 0.19367994512927367,\n",
              " 0.19442689678251432,\n",
              " 0.19600062698323503,\n",
              " 0.20064199069115785,\n",
              " 0.19975249101248962,\n",
              " 0.20550572931874758,\n",
              " 0.2058991618689278,\n",
              " 0.20880143966663378,\n",
              " 0.2096567278191994,\n",
              " 0.21213136154062254,\n",
              " 0.21128747723009117,\n",
              " 0.20815142067068387,\n",
              " 0.20852774745781277,\n",
              " 0.20588205610587645,\n",
              " 0.20498115258517402,\n",
              " 0.2021587016817075,\n",
              " 0.2096738335822507,\n",
              " 0.209856295054798,\n",
              " 0.20987910273886645,\n",
              " 0.2134256976115052,\n",
              " 0.21436081265831028,\n",
              " 0.21667579259125455,\n",
              " 0.21785038832077797,\n",
              " 0.21944122428455004,\n",
              " 0.22850727870174556,\n",
              " 0.2308963836079122,\n",
              " 0.2246812896992687,\n",
              " 0.22543394327352648,\n",
              " 0.22470409738333713,\n",
              " 0.22319879023482164,\n",
              " 0.22420232833383197,\n",
              " 0.22362643431110446,\n",
              " 0.22346107860160844,\n",
              " 0.22157374274494698,\n",
              " 0.2184604938696081,\n",
              " 0.22079257956560372,\n",
              " 0.2245786551209608,\n",
              " 0.22709320228950375,\n",
              " 0.23108454700147663,\n",
              " 0.2302463646119623,\n",
              " 0.2313354315262292,\n",
              " 0.22948230719567034,\n",
              " 0.2309191912919806,\n",
              " 0.2299042493509361,\n",
              " 0.22360932854805315,\n",
              " 0.22287948265786384,\n",
              " 0.21890524370894224,\n",
              " 0.21811267668756476,\n",
              " 0.22390012651992552,\n",
              " 0.22265710773819675,\n",
              " 0.22750944252375235,\n",
              " 0.2241225014395925,\n",
              " 0.2285528940698824,\n",
              " 0.22869544209530998,\n",
              " 0.23005249929738078,\n",
              " 0.22589579887591188,\n",
              " 0.22972178787838873,\n",
              " 0.23099901818622007,\n",
              " 0.2304858452946807,\n",
              " 0.23245300804558167,\n",
              " 0.231050335475374,\n",
              " 0.23309732512051437,\n",
              " 0.23216791199472642,\n",
              " 0.23274950793847102,\n",
              " 0.23356488264391698,\n",
              " 0.2325613445449066,\n",
              " 0.23261266183406054,\n",
              " 0.2332569789089933,\n",
              " 0.23278942138559078,\n",
              " 0.23396401711511428,\n",
              " 0.23541230505345867,\n",
              " 0.23611934325957962,\n",
              " 0.23498466097717582,\n",
              " 0.23577722799855333,\n",
              " 0.23634171817924662,\n",
              " 0.23621057399585318,\n",
              " 0.23503027634531268,\n",
              " 0.2342149016398668,\n",
              " 0.23932952479220912,\n",
              " 0.2405953512580063,\n",
              " 0.24256821592992428,\n",
              " 0.24238005253635986,\n",
              " 0.24412484036759374,\n",
              " 0.24874339639144802,\n",
              " 0.24815609852668635,\n",
              " 0.2501859824087753,\n",
              " 0.25109258785049493,\n",
              " 0.25314527941665244,\n",
              " 0.247426252636497,\n",
              " 0.24611481080256303,\n",
              " 0.2416159951200679,\n",
              " 0.2372540255419833,\n",
              " 0.24509986886151852,\n",
              " 0.2479850408961732,\n",
              " 0.24975263641147546,\n",
              " 0.24930218465112428,\n",
              " 0.2441077346045424,\n",
              " 0.24646262798460639,\n",
              " 0.25063643416912657,\n",
              " 0.25010045359351885,\n",
              " 0.24946754036062027,\n",
              " 0.25169699147830804,\n",
              " 0.25562561505909265,\n",
              " 0.25804893149136193,\n",
              " 0.26021566147786146,\n",
              " 0.2575642682049081,\n",
              " 0.2592634406680051,\n",
              " 0.260956911210085,\n",
              " 0.26148718986467573,\n",
              " 0.2638363813237226,\n",
              " 0.26031259413515223,\n",
              " 0.2546619904072021,\n",
              " 0.24593805125103282,\n",
              " 0.24886883865382434,\n",
              " 0.24905700204738876,\n",
              " 0.2529115006549512,\n",
              " 0.25659494163200036,\n",
              " 0.25375538496548256,\n",
              " 0.25580237461062294,\n",
              " 0.26123630533992315,\n",
              " 0.2615613148378981,\n",
              " 0.2581743737537382,\n",
              " 0.2584594698045934,\n",
              " 0.2560646629774097,\n",
              " 0.25181673181966713,\n",
              " 0.25571684579536635,\n",
              " 0.2568572299987872,\n",
              " 0.2509101263779476,\n",
              " 0.23965453429018413,\n",
              " 0.24303577345332683,\n",
              " 0.24013919757663793,\n",
              " 0.24644552222155508,\n",
              " 0.24783679094972857,\n",
              " 0.24635429148528146,\n",
              " 0.25059081880098977,\n",
              " 0.2553804324553572,\n",
              " 0.25457075967092846,\n",
              " 0.2549584903000915,\n",
              " 0.2532536159159774,\n",
              " 0.2531680871007208,\n",
              " 0.2502886169870833,\n",
              " 0.2478310890287114,\n",
              " 0.2461547242496828,\n",
              " 0.2455275129378013,\n",
              " 0.24554461870085262,\n",
              " 0.24334367718825048,\n",
              " 0.2402418321549458,\n",
              " 0.24140502404243513,\n",
              " 0.24413054228861086,\n",
              " 0.24141642788446926,\n",
              " 0.23780140995962532,\n",
              " 0.24100588957123784,\n",
              " 0.24539066683339086,\n",
              " 0.2487091848653454,\n",
              " 0.25476462498550995,\n",
              " 0.25645809552758986,\n",
              " 0.2545593558288942,\n",
              " 0.2543711924353298,\n",
              " 0.2518794529508553,\n",
              " 0.2543597885932956,\n",
              " 0.25154874153186324,\n",
              " 0.2529343083390196,\n",
              " 0.2539378464380299,\n",
              " 0.2518794529508553,\n",
              " 0.25180532797763294,\n",
              " 0.2525066642627367,\n",
              " 0.25385801954379045,\n",
              " 0.25222727013289864,\n",
              " 0.2517483087674619,\n",
              " 0.247317916137172,\n",
              " 0.24205504303838493,\n",
              " 0.24414194613064505,\n",
              " 0.2468560605347866,\n",
              " 0.24734072382124045,\n",
              " 0.24345771560859253,\n",
              " 0.24286471582281371,\n",
              " 0.24125107217497324,\n",
              " 0.24459239789099627,\n",
              " 0.24330946566214784,\n",
              " 0.2450656573354159,\n",
              " 0.2526777218932499,\n",
              " 0.25097284750913573,\n",
              " 0.251423299269487,\n",
              " 0.24946754036062027,\n",
              " 0.2455275129378013,\n",
              " 0.24113703375463116,\n",
              " 0.24127958178005882,\n",
              " 0.24074360120445099,\n",
              " 0.23665532383518734,\n",
              " 0.2371799005687609,\n",
              " 0.24143353364752057,\n",
              " 0.2372711313050346,\n",
              " 0.23611934325957962,\n",
              " 0.23253853686083825,\n",
              " 0.22893492277802838,\n",
              " 0.23621627591687033,\n",
              " 0.2342434112449523,\n",
              " 0.24054973588986944,\n",
              " 0.23698603525417938,\n",
              " 0.24113703375463116,\n",
              " 0.24349192713469514,\n",
              " 0.24259102361399273,\n",
              " 0.24378272510656748,\n",
              " 0.249342098098244,\n",
              " 0.2538409137807391,\n",
              " 0.25553438432281905,\n",
              " 0.2595143251927577,\n",
              " 0.261338939918231,\n",
              " 0.25717653757574505,\n",
              " 0.2569940761031977,\n",
              " 0.2601073249785365,\n",
              " 0.2599191615849721,\n",
              " 0.2651364193156223,\n",
              " 0.2716252054330868,\n",
              " 0.27385465655077446,\n",
              " 0.2812044327418217,\n",
              " 0.2814895287926769,\n",
              " 0.28587430605482994,\n",
              " 0.2896774873732384,\n",
              " ...]"
            ]
          },
          "metadata": {},
          "execution_count": 36
        }
      ]
    },
    {
      "cell_type": "code",
      "source": [
        "# demonstrate prediction for next 10 days\n",
        "from numpy import array\n",
        "\n",
        "lst_output=[]\n",
        "n_steps=2586\n",
        "i=0\n",
        "while(i<30):\n",
        "    \n",
        "    if(len(temp_input)>2586):\n",
        "        #print(temp_input)\n",
        "        x_input=np.array(temp_input[1:])\n",
        "        print(\"{} day input {}\".format(i,x_input))\n",
        "        x_input=x_input.reshape(1,-1)\n",
        "        x_input = x_input.reshape((1, n_steps, 1))\n",
        "        #print(x_input)\n",
        "        yhat = model.predict(x_input, verbose=0)\n",
        "        print(\"{} day output {}\".format(i,yhat))\n",
        "        temp_input.extend(yhat[0].tolist())\n",
        "        temp_input=temp_input[1:]\n",
        "        #print(temp_input)\n",
        "        lst_output.extend(yhat.tolist())\n",
        "        i=i+1\n",
        "    else:\n",
        "        x_input = x_input.reshape((1, n_steps,1))\n",
        "        yhat = model.predict(x_input, verbose=0)\n",
        "        print(yhat[0])\n",
        "        temp_input.extend(yhat[0].tolist())\n",
        "        print(len(temp_input))\n",
        "        lst_output.extend(yhat.tolist())\n",
        "        i=i+1\n",
        "    \n",
        "\n",
        "print(lst_output)"
      ],
      "metadata": {
        "colab": {
          "base_uri": "https://localhost:8080/"
        },
        "id": "CSGmVH1tJMx2",
        "outputId": "afce168e-6b49-462b-fa06-6571c97bd9f1"
      },
      "execution_count": null,
      "outputs": [
        {
          "output_type": "stream",
          "name": "stdout",
          "text": [
            "0 day input [0.09653061 0.09098835 0.0899506  ... 1.         0.99794731 0.99464019]\n",
            "0 day output [[0.8577128]]\n",
            "1 day input [0.09098835 0.0899506  0.09200329 ... 0.99794731 0.99464019 0.85771281]\n",
            "1 day output [[0.8175177]]\n",
            "2 day input [0.0899506  0.09200329 0.08924356 ... 0.99464019 0.85771281 0.8175177 ]\n",
            "2 day output [[0.763504]]\n",
            "3 day input [0.09200329 0.08924356 0.08623865 ... 0.85771281 0.8175177  0.76350403]\n",
            "3 day output [[0.70953614]]\n",
            "4 day input [0.08924356 0.08623865 0.08415174 ... 0.8175177  0.76350403 0.70953614]\n",
            "4 day output [[0.6602254]]\n",
            "5 day input [0.08623865 0.08415174 0.08780668 ... 0.76350403 0.70953614 0.66022539]\n",
            "5 day output [[0.61696005]]\n",
            "6 day input [0.08415174 0.08780668 0.08791501 ... 0.70953614 0.66022539 0.61696005]\n",
            "6 day output [[0.5801429]]\n",
            "7 day input [0.08780668 0.08791501 0.09183223 ... 0.66022539 0.61696005 0.58014292]\n",
            "7 day output [[0.5496911]]\n",
            "8 day input [0.08791501 0.09183223 0.09544155 ... 0.61696005 0.58014292 0.54969108]\n",
            "8 day output [[0.5251377]]\n",
            "9 day input [0.09183223 0.09544155 0.09438669 ... 0.58014292 0.54969108 0.52513772]\n",
            "9 day output [[0.50571424]]\n",
            "10 day input [0.09544155 0.09438669 0.09748854 ... 0.54969108 0.52513772 0.50571424]\n",
            "10 day output [[0.49045983]]\n",
            "11 day input [0.09438669 0.09748854 0.09525338 ... 0.52513772 0.50571424 0.49045983]\n",
            "11 day output [[0.47833976]]\n",
            "12 day input [0.09748854 0.09525338 0.09128485 ... 0.50571424 0.49045983 0.47833976]\n",
            "12 day output [[0.46835303]]\n",
            "13 day input [0.09525338 0.09128485 0.09658763 ... 0.49045983 0.47833976 0.46835303]\n",
            "13 day output [[0.45961806]]\n",
            "14 day input [0.09128485 0.09658763 0.09816707 ... 0.47833976 0.46835303 0.45961806]\n",
            "14 day output [[0.4514281]]\n",
            "15 day input [0.09658763 0.09816707 0.09979211 ... 0.46835303 0.45961806 0.45142809]\n",
            "15 day output [[0.44327584]]\n",
            "16 day input [0.09816707 0.09979211 0.10395452 ... 0.45961806 0.45142809 0.44327584]\n",
            "16 day output [[0.43485084]]\n",
            "17 day input [0.09979211 0.10395452 0.09854909 ... 0.45142809 0.44327584 0.43485084]\n",
            "17 day output [[0.42601725]]\n",
            "18 day input [0.10395452 0.09854909 0.09727186 ... 0.44327584 0.43485084 0.42601725]\n",
            "18 day output [[0.41677773]]\n",
            "19 day input [0.09854909 0.09727186 0.09490557 ... 0.43485084 0.42601725 0.41677773]\n",
            "19 day output [[0.40723258]]\n",
            "20 day input [0.09727186 0.09490557 0.09850918 ... 0.42601725 0.41677773 0.40723258]\n",
            "20 day output [[0.39753976]]\n",
            "21 day input [0.09490557 0.09850918 0.09763109 ... 0.41677773 0.40723258 0.39753976]\n",
            "21 day output [[0.3878794]]\n",
            "22 day input [0.09850918 0.09763109 0.09861182 ... 0.40723258 0.39753976 0.3878794 ]\n",
            "22 day output [[0.3784255]]\n",
            "23 day input [0.09763109 0.09861182 0.0988741  ... 0.39753976 0.3878794  0.37842551]\n",
            "23 day output [[0.36932635]]\n",
            "24 day input [0.09861182 0.0988741  0.100043   ... 0.3878794  0.37842551 0.36932635]\n",
            "24 day output [[0.36069238]]\n",
            "25 day input [0.0988741  0.100043   0.0997408  ... 0.37842551 0.36932635 0.36069238]\n",
            "25 day output [[0.35259193]]\n",
            "26 day input [0.100043   0.0997408  0.10159392 ... 0.36932635 0.36069238 0.35259193]\n",
            "26 day output [[0.34505218]]\n",
            "27 day input [0.0997408  0.10159392 0.10146278 ... 0.36069238 0.35259193 0.34505218]\n",
            "27 day output [[0.33806464]]\n",
            "28 day input [0.10159392 0.10146278 0.10113207 ... 0.35259193 0.34505218 0.33806464]\n",
            "28 day output [[0.33159274]]\n",
            "29 day input [0.10146278 0.10113207 0.10394881 ... 0.34505218 0.33806464 0.33159274]\n",
            "29 day output [[0.32558146]]\n",
            "[[0.8577128052711487], [0.8175176978111267], [0.7635040283203125], [0.7095361351966858], [0.6602253913879395], [0.6169600486755371], [0.5801429152488708], [0.5496910810470581], [0.525137722492218], [0.5057142376899719], [0.4904598295688629], [0.4783397614955902], [0.4683530330657959], [0.45961806178092957], [0.451428085565567], [0.4432758390903473], [0.4348508417606354], [0.42601725459098816], [0.41677772998809814], [0.4072325825691223], [0.39753976464271545], [0.3878794014453888], [0.3784255087375641], [0.3693263530731201], [0.3606923818588257], [0.35259193181991577], [0.34505218267440796], [0.33806464076042175], [0.33159273862838745], [0.32558146119117737]]\n"
          ]
        }
      ]
    },
    {
      "cell_type": "code",
      "source": [
        "day_new=np.arange(1,101)\n",
        "day_pred=np.arange(101,131)"
      ],
      "metadata": {
        "id": "rw8SpFW0JN6k"
      },
      "execution_count": null,
      "outputs": []
    },
    {
      "cell_type": "code",
      "source": [
        "import matplotlib.pyplot as plt\n",
        "len(df1)"
      ],
      "metadata": {
        "colab": {
          "base_uri": "https://localhost:8080/"
        },
        "id": "ucsQErnXJT-W",
        "outputId": "8a3d466f-86f8-484f-f178-2cbb886b6ea9"
      },
      "execution_count": null,
      "outputs": [
        {
          "output_type": "execute_result",
          "data": {
            "text/plain": [
              "8364"
            ]
          },
          "metadata": {},
          "execution_count": 60
        }
      ]
    },
    {
      "cell_type": "code",
      "source": [
        "plt.plot(day_new,scaler.inverse_transform(df1[8264:]))\n",
        "plt.plot(day_pred,scaler.inverse_transform(lst_output))"
      ],
      "metadata": {
        "colab": {
          "base_uri": "https://localhost:8080/",
          "height": 284
        },
        "id": "cPT0YExGJXBd",
        "outputId": "8d04ba00-6e1f-4e63-9755-b1ad72d960fd"
      },
      "execution_count": null,
      "outputs": [
        {
          "output_type": "execute_result",
          "data": {
            "text/plain": [
              "[<matplotlib.lines.Line2D at 0x7fdea98653d0>]"
            ]
          },
          "metadata": {},
          "execution_count": 61
        },
        {
          "output_type": "display_data",
          "data": {
            "text/plain": [
              "<Figure size 432x288 with 1 Axes>"
            ],
            "image/png": "[encoded data removed]"
          },
          "metadata": {
            "needs_background": "light"
          }
        }
      ]
    },
    {
      "cell_type": "code",
      "source": [
        "df3=df1.tolist()\n",
        "df3.extend(lst_output)\n",
        "plt.plot(df3[1000:])"
      ],
      "metadata": {
        "colab": {
          "base_uri": "https://localhost:8080/",
          "height": 282
        },
        "id": "wQQ2u670Jq1_",
        "outputId": "c02f0297-906b-4930-a628-fe0d74c9f3ed"
      },
      "execution_count": null,
      "outputs": [
        {
          "output_type": "execute_result",
          "data": {
            "text/plain": [
              "[<matplotlib.lines.Line2D at 0x7fdea7584250>]"
            ]
          },
          "metadata": {},
          "execution_count": 74
        },
        {
          "output_type": "display_data",
          "data": {
            "text/plain": [
              "<Figure size 432x288 with 1 Axes>"
            ],
            "image/png": "[encoded data removed]"
          },
          "metadata": {
            "needs_background": "light"
          }
        }
      ]
    },
    {
      "cell_type": "code",
      "source": [
        "df3=scaler.inverse_transform(df3).tolist()\n",
        "plt.plot(df3)"
      ],
      "metadata": {
        "colab": {
          "base_uri": "https://localhost:8080/",
          "height": 282
        },
        "id": "Yc_BINibJwDn",
        "outputId": "e113845d-5237-4ae1-b5b0-ae9277319958"
      },
      "execution_count": null,
      "outputs": [
        {
          "output_type": "execute_result",
          "data": {
            "text/plain": [
              "[<matplotlib.lines.Line2D at 0x7fdea9b44450>]"
            ]
          },
          "metadata": {},
          "execution_count": 45
        },
        {
          "output_type": "display_data",
          "data": {
            "text/plain": [
              "<Figure size 432x288 with 1 Axes>"
            ],
            "image/png": "[encoded data removed]"
          },
          "metadata": {
            "needs_background": "light"
          }
        }
      ]
    }
  ]
}